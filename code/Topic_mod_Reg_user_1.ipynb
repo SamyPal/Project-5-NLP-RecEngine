{
 "cells": [
  {
   "cell_type": "markdown",
   "metadata": {},
   "source": [
    "## Objective \n",
    "Q1 - Is vine reviews worth the investment - i.e., do vine reviewers share the same sentiment as the regular users ? \n",
    "Q2 - weed out bad vine reviewers.\n",
    "Q2 - trends in books\n",
    "Q3 - Recommender"
   ]
  },
  {
   "cell_type": "code",
   "execution_count": 47,
   "metadata": {},
   "outputs": [],
   "source": [
    "import pandas as pd\n",
    "import numpy as np\n",
    "import random\n",
    "\n",
    "\n",
    "import spacy\n",
    "import nltk\n",
    "from nltk.corpus import stopwords\n",
    "\n",
    "from sklearn.pipeline import make_pipeline\n",
    "from sklearn.preprocessing import StandardScaler\n",
    "from sklearn.preprocessing import Normalizer\n",
    "\n",
    "from sklearn.feature_extraction import text\n",
    "from sklearn.feature_extraction.text import CountVectorizer, TfidfVectorizer\n",
    "from sklearn.feature_extraction.text import TfidfTransformer,HashingVectorizer\n",
    "\n",
    "from sklearn.decomposition import TruncatedSVD, NMF, LatentDirichletAllocation\n",
    "from sklearn.cluster import KMeans, MiniBatchKMeans#, SpectralClustering, MeanShift, AgglomerativeClustering\n",
    "from sklearn import metrics\n",
    "\n",
    "from textblob import TextBlob\n",
    "from yellowbrick.text import TSNEVisualizer\n",
    "from yellowbrick.cluster import InterclusterDistance\n",
    "import seaborn as sns\n",
    "import matplotlib.pyplot as plt\n",
    "import matplotlib.style as style\n",
    "style.use('fivethirtyeight')"
   ]
  },
  {
   "cell_type": "markdown",
   "metadata": {},
   "source": [
    "## Data Importing and Setup / Categorization"
   ]
  },
  {
   "cell_type": "code",
   "execution_count": 2,
   "metadata": {
    "scrolled": true
   },
   "outputs": [],
   "source": [
    "df_chunk = pd.read_csv('data/processed/books.csv', iterator=False, chunksize=100000)"
   ]
  },
  {
   "cell_type": "code",
   "execution_count": 3,
   "metadata": {
    "scrolled": true
   },
   "outputs": [
    {
     "data": {
      "text/html": [
       "<div>\n",
       "<style scoped>\n",
       "    .dataframe tbody tr th:only-of-type {\n",
       "        vertical-align: middle;\n",
       "    }\n",
       "\n",
       "    .dataframe tbody tr th {\n",
       "        vertical-align: top;\n",
       "    }\n",
       "\n",
       "    .dataframe thead th {\n",
       "        text-align: right;\n",
       "    }\n",
       "</style>\n",
       "<table border=\"1\" class=\"dataframe\">\n",
       "  <thead>\n",
       "    <tr style=\"text-align: right;\">\n",
       "      <th></th>\n",
       "      <th>marketplace</th>\n",
       "      <th>customer_id</th>\n",
       "      <th>review_id</th>\n",
       "      <th>product_id</th>\n",
       "      <th>product_parent</th>\n",
       "      <th>product_title</th>\n",
       "      <th>product_category</th>\n",
       "      <th>star_rating</th>\n",
       "      <th>helpful_votes</th>\n",
       "      <th>total_votes</th>\n",
       "      <th>vine</th>\n",
       "      <th>verified_purchase</th>\n",
       "      <th>review_headline</th>\n",
       "      <th>review_body</th>\n",
       "      <th>review_date</th>\n",
       "    </tr>\n",
       "  </thead>\n",
       "  <tbody>\n",
       "    <tr>\n",
       "      <td>0</td>\n",
       "      <td>US</td>\n",
       "      <td>25933450</td>\n",
       "      <td>RJOVP071AVAJO</td>\n",
       "      <td>0439873800</td>\n",
       "      <td>84656342</td>\n",
       "      <td>There Was an Old Lady Who Swallowed a Shell!</td>\n",
       "      <td>Books</td>\n",
       "      <td>5</td>\n",
       "      <td>0</td>\n",
       "      <td>0</td>\n",
       "      <td>N</td>\n",
       "      <td>Y</td>\n",
       "      <td>Five Stars</td>\n",
       "      <td>I love it and so does my students!</td>\n",
       "      <td>2015-08-31</td>\n",
       "    </tr>\n",
       "    <tr>\n",
       "      <td>1</td>\n",
       "      <td>US</td>\n",
       "      <td>1801372</td>\n",
       "      <td>R1ORGBETCDW3AI</td>\n",
       "      <td>1623953553</td>\n",
       "      <td>729938122</td>\n",
       "      <td>I Saw a Friend</td>\n",
       "      <td>Books</td>\n",
       "      <td>5</td>\n",
       "      <td>0</td>\n",
       "      <td>0</td>\n",
       "      <td>N</td>\n",
       "      <td>Y</td>\n",
       "      <td>Please buy inchI Saw a Friendinch! Your childr...</td>\n",
       "      <td>My wife and I ordered 2 books and gave them as...</td>\n",
       "      <td>2015-08-31</td>\n",
       "    </tr>\n",
       "    <tr>\n",
       "      <td>2</td>\n",
       "      <td>US</td>\n",
       "      <td>5782091</td>\n",
       "      <td>R7TNRFQAOUTX5</td>\n",
       "      <td>142151981X</td>\n",
       "      <td>678139048</td>\n",
       "      <td>Black Lagoon  Vol. 6</td>\n",
       "      <td>Books</td>\n",
       "      <td>5</td>\n",
       "      <td>0</td>\n",
       "      <td>0</td>\n",
       "      <td>N</td>\n",
       "      <td>Y</td>\n",
       "      <td>Shipped fast.</td>\n",
       "      <td>Great book just like all the others in the ser...</td>\n",
       "      <td>2015-08-31</td>\n",
       "    </tr>\n",
       "    <tr>\n",
       "      <td>3</td>\n",
       "      <td>US</td>\n",
       "      <td>32715830</td>\n",
       "      <td>R2GANXKDIFZ6OI</td>\n",
       "      <td>014241543X</td>\n",
       "      <td>712432151</td>\n",
       "      <td>If I Stay</td>\n",
       "      <td>Books</td>\n",
       "      <td>5</td>\n",
       "      <td>0</td>\n",
       "      <td>0</td>\n",
       "      <td>N</td>\n",
       "      <td>N</td>\n",
       "      <td>Five Stars</td>\n",
       "      <td>So beautiful</td>\n",
       "      <td>2015-08-31</td>\n",
       "    </tr>\n",
       "    <tr>\n",
       "      <td>4</td>\n",
       "      <td>US</td>\n",
       "      <td>14005703</td>\n",
       "      <td>R2NYB6C3R8LVN6</td>\n",
       "      <td>1604600527</td>\n",
       "      <td>800572372</td>\n",
       "      <td>Stars 'N Strips Forever</td>\n",
       "      <td>Books</td>\n",
       "      <td>5</td>\n",
       "      <td>2</td>\n",
       "      <td>2</td>\n",
       "      <td>N</td>\n",
       "      <td>Y</td>\n",
       "      <td>Five Stars</td>\n",
       "      <td>Enjoyed the author's story and his quilts are ...</td>\n",
       "      <td>2015-08-31</td>\n",
       "    </tr>\n",
       "    <tr>\n",
       "      <td>...</td>\n",
       "      <td>...</td>\n",
       "      <td>...</td>\n",
       "      <td>...</td>\n",
       "      <td>...</td>\n",
       "      <td>...</td>\n",
       "      <td>...</td>\n",
       "      <td>...</td>\n",
       "      <td>...</td>\n",
       "      <td>...</td>\n",
       "      <td>...</td>\n",
       "      <td>...</td>\n",
       "      <td>...</td>\n",
       "      <td>...</td>\n",
       "      <td>...</td>\n",
       "      <td>...</td>\n",
       "    </tr>\n",
       "    <tr>\n",
       "      <td>99995</td>\n",
       "      <td>US</td>\n",
       "      <td>33390635</td>\n",
       "      <td>R12TDDYCSRSPF</td>\n",
       "      <td>150110571X</td>\n",
       "      <td>15052720</td>\n",
       "      <td>Clear by Fire: A Search and Destroy Thriller</td>\n",
       "      <td>Books</td>\n",
       "      <td>5</td>\n",
       "      <td>2</td>\n",
       "      <td>3</td>\n",
       "      <td>N</td>\n",
       "      <td>N</td>\n",
       "      <td>Renee Hart is the real thing</td>\n",
       "      <td>As a woman I wasn't sure that I would like thi...</td>\n",
       "      <td>2015-08-22</td>\n",
       "    </tr>\n",
       "    <tr>\n",
       "      <td>99996</td>\n",
       "      <td>US</td>\n",
       "      <td>48445068</td>\n",
       "      <td>R3KK49JDS7OWW6</td>\n",
       "      <td>0071493891</td>\n",
       "      <td>833590711</td>\n",
       "      <td>George Washington's Secret Navy: How the Ameri...</td>\n",
       "      <td>Books</td>\n",
       "      <td>4</td>\n",
       "      <td>0</td>\n",
       "      <td>0</td>\n",
       "      <td>N</td>\n",
       "      <td>Y</td>\n",
       "      <td>Four Stars</td>\n",
       "      <td>Interesting new insight into the revolution.</td>\n",
       "      <td>2015-08-22</td>\n",
       "    </tr>\n",
       "    <tr>\n",
       "      <td>99997</td>\n",
       "      <td>US</td>\n",
       "      <td>17905607</td>\n",
       "      <td>R13EJCHROI1RNR</td>\n",
       "      <td>1499106467</td>\n",
       "      <td>459722226</td>\n",
       "      <td>Child Support Kills: How To Avoid Becoming A C...</td>\n",
       "      <td>Books</td>\n",
       "      <td>5</td>\n",
       "      <td>0</td>\n",
       "      <td>0</td>\n",
       "      <td>N</td>\n",
       "      <td>Y</td>\n",
       "      <td>Very informative and well written! Kudos to th...</td>\n",
       "      <td>Very good info in this book and well written!</td>\n",
       "      <td>2015-08-22</td>\n",
       "    </tr>\n",
       "    <tr>\n",
       "      <td>99998</td>\n",
       "      <td>US</td>\n",
       "      <td>14397151</td>\n",
       "      <td>R383JSFRFF9L3T</td>\n",
       "      <td>0816529663</td>\n",
       "      <td>441316623</td>\n",
       "      <td>The Neolithic Revolution in the Near East: Tra...</td>\n",
       "      <td>Books</td>\n",
       "      <td>5</td>\n",
       "      <td>1</td>\n",
       "      <td>1</td>\n",
       "      <td>N</td>\n",
       "      <td>Y</td>\n",
       "      <td>An Excellent Resource</td>\n",
       "      <td>This was just what I was looking for. It provi...</td>\n",
       "      <td>2015-08-22</td>\n",
       "    </tr>\n",
       "    <tr>\n",
       "      <td>99999</td>\n",
       "      <td>US</td>\n",
       "      <td>11020026</td>\n",
       "      <td>RCXS4H33QS9DQ</td>\n",
       "      <td>1586402757</td>\n",
       "      <td>409884223</td>\n",
       "      <td>The Holman Illustrated Study Bible: Holman Chr...</td>\n",
       "      <td>Books</td>\n",
       "      <td>5</td>\n",
       "      <td>0</td>\n",
       "      <td>0</td>\n",
       "      <td>N</td>\n",
       "      <td>Y</td>\n",
       "      <td>Will Buy Again and Again</td>\n",
       "      <td>This is my second Holman Illustrated Study Bib...</td>\n",
       "      <td>2015-08-22</td>\n",
       "    </tr>\n",
       "  </tbody>\n",
       "</table>\n",
       "<p>100000 rows × 15 columns</p>\n",
       "</div>"
      ],
      "text/plain": [
       "      marketplace  customer_id       review_id  product_id  product_parent  \\\n",
       "0              US     25933450   RJOVP071AVAJO  0439873800        84656342   \n",
       "1              US      1801372  R1ORGBETCDW3AI  1623953553       729938122   \n",
       "2              US      5782091   R7TNRFQAOUTX5  142151981X       678139048   \n",
       "3              US     32715830  R2GANXKDIFZ6OI  014241543X       712432151   \n",
       "4              US     14005703  R2NYB6C3R8LVN6  1604600527       800572372   \n",
       "...           ...          ...             ...         ...             ...   \n",
       "99995          US     33390635   R12TDDYCSRSPF  150110571X        15052720   \n",
       "99996          US     48445068  R3KK49JDS7OWW6  0071493891       833590711   \n",
       "99997          US     17905607  R13EJCHROI1RNR  1499106467       459722226   \n",
       "99998          US     14397151  R383JSFRFF9L3T  0816529663       441316623   \n",
       "99999          US     11020026   RCXS4H33QS9DQ  1586402757       409884223   \n",
       "\n",
       "                                           product_title product_category  \\\n",
       "0           There Was an Old Lady Who Swallowed a Shell!            Books   \n",
       "1                                         I Saw a Friend            Books   \n",
       "2                                   Black Lagoon  Vol. 6            Books   \n",
       "3                                              If I Stay            Books   \n",
       "4                                Stars 'N Strips Forever            Books   \n",
       "...                                                  ...              ...   \n",
       "99995       Clear by Fire: A Search and Destroy Thriller            Books   \n",
       "99996  George Washington's Secret Navy: How the Ameri...            Books   \n",
       "99997  Child Support Kills: How To Avoid Becoming A C...            Books   \n",
       "99998  The Neolithic Revolution in the Near East: Tra...            Books   \n",
       "99999  The Holman Illustrated Study Bible: Holman Chr...            Books   \n",
       "\n",
       "       star_rating  helpful_votes  total_votes vine verified_purchase  \\\n",
       "0                5              0            0    N                 Y   \n",
       "1                5              0            0    N                 Y   \n",
       "2                5              0            0    N                 Y   \n",
       "3                5              0            0    N                 N   \n",
       "4                5              2            2    N                 Y   \n",
       "...            ...            ...          ...  ...               ...   \n",
       "99995            5              2            3    N                 N   \n",
       "99996            4              0            0    N                 Y   \n",
       "99997            5              0            0    N                 Y   \n",
       "99998            5              1            1    N                 Y   \n",
       "99999            5              0            0    N                 Y   \n",
       "\n",
       "                                         review_headline  \\\n",
       "0                                             Five Stars   \n",
       "1      Please buy inchI Saw a Friendinch! Your childr...   \n",
       "2                                          Shipped fast.   \n",
       "3                                             Five Stars   \n",
       "4                                             Five Stars   \n",
       "...                                                  ...   \n",
       "99995                       Renee Hart is the real thing   \n",
       "99996                                         Four Stars   \n",
       "99997  Very informative and well written! Kudos to th...   \n",
       "99998                              An Excellent Resource   \n",
       "99999                           Will Buy Again and Again   \n",
       "\n",
       "                                             review_body review_date  \n",
       "0                     I love it and so does my students!  2015-08-31  \n",
       "1      My wife and I ordered 2 books and gave them as...  2015-08-31  \n",
       "2      Great book just like all the others in the ser...  2015-08-31  \n",
       "3                                           So beautiful  2015-08-31  \n",
       "4      Enjoyed the author's story and his quilts are ...  2015-08-31  \n",
       "...                                                  ...         ...  \n",
       "99995  As a woman I wasn't sure that I would like thi...  2015-08-22  \n",
       "99996       Interesting new insight into the revolution.  2015-08-22  \n",
       "99997      Very good info in this book and well written!  2015-08-22  \n",
       "99998  This was just what I was looking for. It provi...  2015-08-22  \n",
       "99999  This is my second Holman Illustrated Study Bib...  2015-08-22  \n",
       "\n",
       "[100000 rows x 15 columns]"
      ]
     },
     "execution_count": 3,
     "metadata": {},
     "output_type": "execute_result"
    }
   ],
   "source": [
    "df_chunk.get_chunk()"
   ]
  },
  {
   "cell_type": "code",
   "execution_count": 4,
   "metadata": {},
   "outputs": [],
   "source": [
    "def chunk_preprocessing(chunk, cols):\n",
    "    chunk = chunk[cols]\n",
    "    return pd.DataFrame(chunk)"
   ]
  },
  {
   "cell_type": "code",
   "execution_count": 5,
   "metadata": {},
   "outputs": [
    {
     "data": {
      "text/plain": [
       "(100000, 8)"
      ]
     },
     "metadata": {},
     "output_type": "display_data"
    },
    {
     "data": {
      "text/html": [
       "<div>\n",
       "<style scoped>\n",
       "    .dataframe tbody tr th:only-of-type {\n",
       "        vertical-align: middle;\n",
       "    }\n",
       "\n",
       "    .dataframe tbody tr th {\n",
       "        vertical-align: top;\n",
       "    }\n",
       "\n",
       "    .dataframe thead th {\n",
       "        text-align: right;\n",
       "    }\n",
       "</style>\n",
       "<table border=\"1\" class=\"dataframe\">\n",
       "  <thead>\n",
       "    <tr style=\"text-align: right;\">\n",
       "      <th></th>\n",
       "      <th>review_date</th>\n",
       "      <th>review_body</th>\n",
       "      <th>product_parent</th>\n",
       "      <th>vine</th>\n",
       "      <th>verified_purchase</th>\n",
       "      <th>star_rating</th>\n",
       "      <th>customer_id</th>\n",
       "      <th>product_id</th>\n",
       "    </tr>\n",
       "    <tr>\n",
       "      <th>review_id</th>\n",
       "      <th></th>\n",
       "      <th></th>\n",
       "      <th></th>\n",
       "      <th></th>\n",
       "      <th></th>\n",
       "      <th></th>\n",
       "      <th></th>\n",
       "      <th></th>\n",
       "    </tr>\n",
       "  </thead>\n",
       "  <tbody>\n",
       "    <tr>\n",
       "      <td>R23O92JDQCWS8N</td>\n",
       "      <td>2015-08-22</td>\n",
       "      <td>I've been playing the piano for about 30 years...</td>\n",
       "      <td>955351978</td>\n",
       "      <td>N</td>\n",
       "      <td>N</td>\n",
       "      <td>5</td>\n",
       "      <td>33492037</td>\n",
       "      <td>0793598788</td>\n",
       "    </tr>\n",
       "    <tr>\n",
       "      <td>R3GJHPLT45ZSLV</td>\n",
       "      <td>2015-08-22</td>\n",
       "      <td>SMALL - Great for back pack - very comprehensive</td>\n",
       "      <td>275786765</td>\n",
       "      <td>N</td>\n",
       "      <td>Y</td>\n",
       "      <td>5</td>\n",
       "      <td>42700515</td>\n",
       "      <td>0061992860</td>\n",
       "    </tr>\n",
       "    <tr>\n",
       "      <td>R2YWP3CYG5QDQ</td>\n",
       "      <td>2015-08-22</td>\n",
       "      <td>Be My Valentino by Sandra Dricker is book two ...</td>\n",
       "      <td>630101422</td>\n",
       "      <td>N</td>\n",
       "      <td>N</td>\n",
       "      <td>4</td>\n",
       "      <td>10918731</td>\n",
       "      <td>1426711611</td>\n",
       "    </tr>\n",
       "    <tr>\n",
       "      <td>R2C017D3ADTBII</td>\n",
       "      <td>2015-08-22</td>\n",
       "      <td>Very cool pictures  perfect for the fashionist...</td>\n",
       "      <td>795669659</td>\n",
       "      <td>N</td>\n",
       "      <td>Y</td>\n",
       "      <td>5</td>\n",
       "      <td>29020717</td>\n",
       "      <td>0486499502</td>\n",
       "    </tr>\n",
       "    <tr>\n",
       "      <td>R1L2667KTPKDWN</td>\n",
       "      <td>2015-08-22</td>\n",
       "      <td>They  are beautiful and sexy pictures. The guy...</td>\n",
       "      <td>968731632</td>\n",
       "      <td>N</td>\n",
       "      <td>Y</td>\n",
       "      <td>5</td>\n",
       "      <td>50201876</td>\n",
       "      <td>386787882X</td>\n",
       "    </tr>\n",
       "  </tbody>\n",
       "</table>\n",
       "</div>"
      ],
      "text/plain": [
       "               review_date                                        review_body  \\\n",
       "review_id                                                                       \n",
       "R23O92JDQCWS8N  2015-08-22  I've been playing the piano for about 30 years...   \n",
       "R3GJHPLT45ZSLV  2015-08-22   SMALL - Great for back pack - very comprehensive   \n",
       "R2YWP3CYG5QDQ   2015-08-22  Be My Valentino by Sandra Dricker is book two ...   \n",
       "R2C017D3ADTBII  2015-08-22  Very cool pictures  perfect for the fashionist...   \n",
       "R1L2667KTPKDWN  2015-08-22  They  are beautiful and sexy pictures. The guy...   \n",
       "\n",
       "                product_parent vine verified_purchase  star_rating  \\\n",
       "review_id                                                            \n",
       "R23O92JDQCWS8N       955351978    N                 N            5   \n",
       "R3GJHPLT45ZSLV       275786765    N                 Y            5   \n",
       "R2YWP3CYG5QDQ        630101422    N                 N            4   \n",
       "R2C017D3ADTBII       795669659    N                 Y            5   \n",
       "R1L2667KTPKDWN       968731632    N                 Y            5   \n",
       "\n",
       "                customer_id  product_id  \n",
       "review_id                                \n",
       "R23O92JDQCWS8N     33492037  0793598788  \n",
       "R3GJHPLT45ZSLV     42700515  0061992860  \n",
       "R2YWP3CYG5QDQ      10918731  1426711611  \n",
       "R2C017D3ADTBII     29020717  0486499502  \n",
       "R1L2667KTPKDWN     50201876  386787882X  "
      ]
     },
     "execution_count": 5,
     "metadata": {},
     "output_type": "execute_result"
    }
   ],
   "source": [
    "cols = ['review_id', 'review_date', 'review_body', 'product_parent', 'vine','verified_purchase', 'star_rating', 'customer_id', 'product_id']\n",
    "df = chunk_preprocessing(df_chunk.get_chunk(), cols).set_index('review_id')\n",
    "df = df[df.review_date != ''] # eliminating the reviews without a date.\n",
    "display(df.shape)\n",
    "df.head()"
   ]
  },
  {
   "cell_type": "markdown",
   "metadata": {},
   "source": [
    "## EDA"
   ]
  },
  {
   "cell_type": "code",
   "execution_count": 6,
   "metadata": {},
   "outputs": [
    {
     "data": {
      "text/plain": [
       "70451"
      ]
     },
     "execution_count": 6,
     "metadata": {},
     "output_type": "execute_result"
    }
   ],
   "source": [
    "df.product_parent.nunique()"
   ]
  },
  {
   "cell_type": "code",
   "execution_count": 7,
   "metadata": {},
   "outputs": [],
   "source": [
    "def plot_dist (df):\n",
    "    fig, ax = plt.subplots()\n",
    "    plt.title('Distribution of ratings', fontsize=15)\n",
    "    sns.countplot(df.star_rating)\n",
    "    ax.set_ylabel('No. of Ratings(Millions)')\n",
    "    plt.show()"
   ]
  },
  {
   "cell_type": "code",
   "execution_count": 8,
   "metadata": {},
   "outputs": [],
   "source": [
    "def date_filter(df, start, end):\n",
    "    mask = (df.timestamp > pd.to_datetime(start)) & (df.timestamp < pd.to_datetime(end))\n",
    "    df = df[mask]\n",
    "    return df"
   ]
  },
  {
   "cell_type": "code",
   "execution_count": 9,
   "metadata": {},
   "outputs": [],
   "source": [
    "### Filtering_into_subgroups\n",
    "def vine_reviewers_rating_filter(df, max_rate=5, min_rate=4, vine='Y'):\n",
    "    df = df[df.vine == vine]\n",
    "    df = df[(df.star_rating >= min_rate) & (df.star_rating <= max_rate)]\n",
    "    return df"
   ]
  },
  {
   "cell_type": "markdown",
   "metadata": {},
   "source": [
    "1. Are vine users a good representation of the regular user\n",
    "\n",
    "A. compare 4-5star rated topics between regular user and vine user\n",
    "\n",
    "B. compare 1-3 star rated topics between regular user and vine user"
   ]
  },
  {
   "cell_type": "code",
   "execution_count": 10,
   "metadata": {},
   "outputs": [
    {
     "data": {
      "image/png": "[encoded data removed]",
      "text/plain": [
       "<Figure size 432x288 with 1 Axes>"
      ]
     },
     "metadata": {
      "needs_background": "light"
     },
     "output_type": "display_data"
    },
    {
     "data": {
      "text/plain": [
       "(800, 8)"
      ]
     },
     "execution_count": 10,
     "metadata": {},
     "output_type": "execute_result"
    }
   ],
   "source": [
    "all_vine_user = vine_reviewers_rating_filter(df, max_rate=5, min_rate=1, vine='Y')\n",
    "plot_dist(all_vine_user)\n",
    "all_vine_user.shape"
   ]
  },
  {
   "cell_type": "code",
   "execution_count": 71,
   "metadata": {},
   "outputs": [
    {
     "data": {
      "image/png": "[encoded data removed]",
      "text/plain": [
       "<Figure size 432x288 with 1 Axes>"
      ]
     },
     "metadata": {},
     "output_type": "display_data"
    },
    {
     "data": {
      "text/plain": [
       "(79254, 8)"
      ]
     },
     "execution_count": 71,
     "metadata": {},
     "output_type": "execute_result"
    }
   ],
   "source": [
    "all_regular_user = vine_reviewers_rating_filter(df, max_rate=5, min_rate=1, vine='N')\n",
    "all_regular_user = all_regular_user[all_regular_user.verified_purchase=='Y']\n",
    "plot_dist(all_regular_user)\n",
    "all_regular_user.star_rating.mean()\n",
    "all_regular_user.shape"
   ]
  },
  {
   "cell_type": "code",
   "execution_count": 12,
   "metadata": {},
   "outputs": [
    {
     "data": {
      "text/plain": [
       "(10143, 8)"
      ]
     },
     "metadata": {},
     "output_type": "display_data"
    }
   ],
   "source": [
    "regular_user_low_rate = vine_reviewers_rating_filter(all_regular_user, max_rate=3, min_rate=1, vine='N')\n",
    "display(regular_user_low_rate.shape)"
   ]
  },
  {
   "cell_type": "code",
   "execution_count": 13,
   "metadata": {},
   "outputs": [
    {
     "data": {
      "text/plain": [
       "(69111, 8)"
      ]
     },
     "execution_count": 13,
     "metadata": {},
     "output_type": "execute_result"
    }
   ],
   "source": [
    "regular_user_high_rate = vine_reviewers_rating_filter(all_regular_user, max_rate=5, min_rate=4, vine='N')\n",
    "regular_user_high_rate.shape"
   ]
  },
  {
   "cell_type": "code",
   "execution_count": 14,
   "metadata": {},
   "outputs": [
    {
     "data": {
      "text/plain": [
       "(189, 8)"
      ]
     },
     "execution_count": 14,
     "metadata": {},
     "output_type": "execute_result"
    }
   ],
   "source": [
    "vine_user_low_rate = vine_reviewers_rating_filter(all_vine_user, max_rate=3, min_rate=1, vine='Y')\n",
    "vine_user_low_rate.shape"
   ]
  },
  {
   "cell_type": "code",
   "execution_count": 15,
   "metadata": {},
   "outputs": [
    {
     "data": {
      "text/plain": [
       "(611, 8)"
      ]
     },
     "execution_count": 15,
     "metadata": {},
     "output_type": "execute_result"
    }
   ],
   "source": [
    "vine_user_high_rate = vine_reviewers_rating_filter(all_vine_user, max_rate=5, min_rate=4, vine='Y')\n",
    "vine_user_high_rate.shape"
   ]
  },
  {
   "cell_type": "code",
   "execution_count": 16,
   "metadata": {},
   "outputs": [
    {
     "data": {
      "text/plain": [
       "443"
      ]
     },
     "execution_count": 16,
     "metadata": {},
     "output_type": "execute_result"
    }
   ],
   "source": [
    "all_vine_user.customer_id.nunique()"
   ]
  },
  {
   "cell_type": "markdown",
   "metadata": {},
   "source": [
    "2. weed out the reviewer with a taste that doesnt match with the majority\n",
    "vine user group by user - for each user \n",
    "identify 4-5 star rated topics and 1-3 star rated topics."
   ]
  },
  {
   "cell_type": "code",
   "execution_count": 17,
   "metadata": {
    "scrolled": true
   },
   "outputs": [
    {
     "data": {
      "text/plain": [
       "'Total number of vine reviewers'"
      ]
     },
     "metadata": {},
     "output_type": "display_data"
    },
    {
     "data": {
      "text/plain": [
       "443"
      ]
     },
     "metadata": {},
     "output_type": "display_data"
    },
    {
     "data": {
      "text/html": [
       "<div>\n",
       "<style scoped>\n",
       "    .dataframe tbody tr th:only-of-type {\n",
       "        vertical-align: middle;\n",
       "    }\n",
       "\n",
       "    .dataframe tbody tr th {\n",
       "        vertical-align: top;\n",
       "    }\n",
       "\n",
       "    .dataframe thead th {\n",
       "        text-align: right;\n",
       "    }\n",
       "</style>\n",
       "<table border=\"1\" class=\"dataframe\">\n",
       "  <thead>\n",
       "    <tr style=\"text-align: right;\">\n",
       "      <th></th>\n",
       "      <th>customer_id</th>\n",
       "      <th>count</th>\n",
       "    </tr>\n",
       "  </thead>\n",
       "  <tbody>\n",
       "    <tr>\n",
       "      <td>101</td>\n",
       "      <td>33376665</td>\n",
       "      <td>26</td>\n",
       "    </tr>\n",
       "    <tr>\n",
       "      <td>214</td>\n",
       "      <td>46877221</td>\n",
       "      <td>22</td>\n",
       "    </tr>\n",
       "    <tr>\n",
       "      <td>293</td>\n",
       "      <td>51002365</td>\n",
       "      <td>11</td>\n",
       "    </tr>\n",
       "    <tr>\n",
       "      <td>60</td>\n",
       "      <td>21982343</td>\n",
       "      <td>8</td>\n",
       "    </tr>\n",
       "    <tr>\n",
       "      <td>277</td>\n",
       "      <td>50666371</td>\n",
       "      <td>8</td>\n",
       "    </tr>\n",
       "    <tr>\n",
       "      <td>85</td>\n",
       "      <td>30200955</td>\n",
       "      <td>8</td>\n",
       "    </tr>\n",
       "    <tr>\n",
       "      <td>155</td>\n",
       "      <td>39345823</td>\n",
       "      <td>8</td>\n",
       "    </tr>\n",
       "    <tr>\n",
       "      <td>402</td>\n",
       "      <td>52909137</td>\n",
       "      <td>8</td>\n",
       "    </tr>\n",
       "    <tr>\n",
       "      <td>2</td>\n",
       "      <td>11301320</td>\n",
       "      <td>7</td>\n",
       "    </tr>\n",
       "    <tr>\n",
       "      <td>43</td>\n",
       "      <td>17300922</td>\n",
       "      <td>7</td>\n",
       "    </tr>\n",
       "    <tr>\n",
       "      <td>154</td>\n",
       "      <td>39292160</td>\n",
       "      <td>7</td>\n",
       "    </tr>\n",
       "    <tr>\n",
       "      <td>42</td>\n",
       "      <td>17235447</td>\n",
       "      <td>6</td>\n",
       "    </tr>\n",
       "    <tr>\n",
       "      <td>207</td>\n",
       "      <td>45838866</td>\n",
       "      <td>6</td>\n",
       "    </tr>\n",
       "    <tr>\n",
       "      <td>244</td>\n",
       "      <td>49368872</td>\n",
       "      <td>6</td>\n",
       "    </tr>\n",
       "    <tr>\n",
       "      <td>275</td>\n",
       "      <td>50621624</td>\n",
       "      <td>6</td>\n",
       "    </tr>\n",
       "    <tr>\n",
       "      <td>233</td>\n",
       "      <td>48446409</td>\n",
       "      <td>6</td>\n",
       "    </tr>\n",
       "    <tr>\n",
       "      <td>152</td>\n",
       "      <td>39154578</td>\n",
       "      <td>6</td>\n",
       "    </tr>\n",
       "    <tr>\n",
       "      <td>119</td>\n",
       "      <td>35653914</td>\n",
       "      <td>6</td>\n",
       "    </tr>\n",
       "    <tr>\n",
       "      <td>70</td>\n",
       "      <td>25388755</td>\n",
       "      <td>5</td>\n",
       "    </tr>\n",
       "    <tr>\n",
       "      <td>347</td>\n",
       "      <td>52254797</td>\n",
       "      <td>5</td>\n",
       "    </tr>\n",
       "    <tr>\n",
       "      <td>115</td>\n",
       "      <td>35297289</td>\n",
       "      <td>5</td>\n",
       "    </tr>\n",
       "    <tr>\n",
       "      <td>199</td>\n",
       "      <td>45344511</td>\n",
       "      <td>5</td>\n",
       "    </tr>\n",
       "    <tr>\n",
       "      <td>383</td>\n",
       "      <td>52756248</td>\n",
       "      <td>5</td>\n",
       "    </tr>\n",
       "    <tr>\n",
       "      <td>381</td>\n",
       "      <td>52753467</td>\n",
       "      <td>5</td>\n",
       "    </tr>\n",
       "    <tr>\n",
       "      <td>401</td>\n",
       "      <td>52859210</td>\n",
       "      <td>5</td>\n",
       "    </tr>\n",
       "    <tr>\n",
       "      <td>57</td>\n",
       "      <td>21258499</td>\n",
       "      <td>5</td>\n",
       "    </tr>\n",
       "    <tr>\n",
       "      <td>253</td>\n",
       "      <td>49753147</td>\n",
       "      <td>5</td>\n",
       "    </tr>\n",
       "  </tbody>\n",
       "</table>\n",
       "</div>"
      ],
      "text/plain": [
       "     customer_id  count\n",
       "101     33376665     26\n",
       "214     46877221     22\n",
       "293     51002365     11\n",
       "60      21982343      8\n",
       "277     50666371      8\n",
       "85      30200955      8\n",
       "155     39345823      8\n",
       "402     52909137      8\n",
       "2       11301320      7\n",
       "43      17300922      7\n",
       "154     39292160      7\n",
       "42      17235447      6\n",
       "207     45838866      6\n",
       "244     49368872      6\n",
       "275     50621624      6\n",
       "233     48446409      6\n",
       "152     39154578      6\n",
       "119     35653914      6\n",
       "70      25388755      5\n",
       "347     52254797      5\n",
       "115     35297289      5\n",
       "199     45344511      5\n",
       "383     52756248      5\n",
       "381     52753467      5\n",
       "401     52859210      5\n",
       "57      21258499      5\n",
       "253     49753147      5"
      ]
     },
     "metadata": {},
     "output_type": "display_data"
    },
    {
     "data": {
      "text/plain": [
       "'Total number of frequent vine reviewers'"
      ]
     },
     "metadata": {},
     "output_type": "display_data"
    },
    {
     "data": {
      "text/plain": [
       "27"
      ]
     },
     "metadata": {},
     "output_type": "display_data"
    }
   ],
   "source": [
    "vine_user_count = all_vine_user.groupby(['customer_id'])['review_body'].count().reset_index(name='count')\n",
    "vine_user_count = vine_user_count.sort_values('count', ascending=False)\n",
    "vine_user_count = vine_user_count[vine_user_count['count']>=0]\n",
    "#display(vine_user_count)\n",
    "vine_user_id = list(vine_user_count['customer_id'].values)\n",
    "display('Total number of vine reviewers', len(vine_user_id))\n",
    "freq_vine_user_count = vine_user_count[vine_user_count['count']>=5]\n",
    "display(freq_vine_user_count)\n",
    "freq_vine_user_id = list(freq_vine_user_count['customer_id'].values)\n",
    "display('Total number of frequent vine reviewers', len(freq_vine_user_id))\n"
   ]
  },
  {
   "cell_type": "code",
   "execution_count": 18,
   "metadata": {},
   "outputs": [],
   "source": [
    "# freq_vine_users_df = all_vine_user[all_vine_user.customer_id.isin(vine_user_id)]\n",
    "\n",
    "# freq_vine_users_df_grouped = freq_vine_users_df.groupby(['customer_id'])['review_body'].count().reset_index(name='count')\n",
    "# freq_vine_users_df_grouped = freq_vine_users_df_grouped.sort_values('count', ascending=False)\n",
    "# freq_vine_users_df_grouped = freq_vine_users_df_grouped[freq_vine_users_df_grouped['count']>=5]\n",
    "# len(freq_vine_users_df_grouped)\n"
   ]
  },
  {
   "cell_type": "code",
   "execution_count": 19,
   "metadata": {},
   "outputs": [
    {
     "ename": "NameError",
     "evalue": "name 'freq_vine_users_df' is not defined",
     "output_type": "error",
     "traceback": [
      "\u001b[0;31m---------------------------------------------------------------------------\u001b[0m",
      "\u001b[0;31mNameError\u001b[0m                                 Traceback (most recent call last)",
      "\u001b[0;32m<ipython-input-19-74b8ae1828ec>\u001b[0m in \u001b[0;36m<module>\u001b[0;34m\u001b[0m\n\u001b[0;32m----> 1\u001b[0;31m \u001b[0mfreq_vine_user_hr\u001b[0m \u001b[0;34m=\u001b[0m \u001b[0mfreq_vine_users_df\u001b[0m\u001b[0;34m[\u001b[0m\u001b[0mfreq_vine_users_df\u001b[0m\u001b[0;34m.\u001b[0m\u001b[0mstar_rating\u001b[0m\u001b[0;34m>\u001b[0m\u001b[0;36m3\u001b[0m\u001b[0;34m]\u001b[0m\u001b[0;34m\u001b[0m\u001b[0;34m\u001b[0m\u001b[0m\n\u001b[0m\u001b[1;32m      2\u001b[0m freq_vine_user_hr_grouped = pd.DataFrame(freq_vine_user_hr.groupby(\\\n\u001b[1;32m      3\u001b[0m                     ['customer_id', 'star_rating','review_body'])\\\n\u001b[1;32m      4\u001b[0m                     ['star_rating'].count())\n\u001b[1;32m      5\u001b[0m \u001b[0mfreq_vine_user_hr_grouped\u001b[0m \u001b[0;34m=\u001b[0m \u001b[0mfreq_vine_user_hr_grouped\u001b[0m\u001b[0;34m.\u001b[0m\u001b[0mdrop\u001b[0m\u001b[0;34m(\u001b[0m\u001b[0mcolumns\u001b[0m\u001b[0;34m=\u001b[0m\u001b[0;34m[\u001b[0m\u001b[0;34m'star_rating'\u001b[0m\u001b[0;34m]\u001b[0m\u001b[0;34m)\u001b[0m\u001b[0;34m\u001b[0m\u001b[0;34m\u001b[0m\u001b[0m\n",
      "\u001b[0;31mNameError\u001b[0m: name 'freq_vine_users_df' is not defined"
     ]
    }
   ],
   "source": [
    "freq_vine_user_hr = freq_vine_users_df[freq_vine_users_df.star_rating>3]\n",
    "freq_vine_user_hr_grouped = pd.DataFrame(freq_vine_user_hr.groupby(\\\n",
    "                    ['customer_id', 'star_rating','review_body'])\\\n",
    "                    ['star_rating'].count())\n",
    "freq_vine_user_hr_grouped = freq_vine_user_hr_grouped.drop(columns=['star_rating'])\n",
    "\n",
    "vine_user_hr_grouped.head()"
   ]
  },
  {
   "cell_type": "code",
   "execution_count": null,
   "metadata": {},
   "outputs": [],
   "source": [
    "vine_user_lr = vine_users_df[vine_users_df.star_rating<4]\n",
    "vine_user_lr_grouped = pd.DataFrame(vine_user_lr.groupby(['customer_id', 'star_rating','review_body'])\\\n",
    "                    ['star_rating'].count()).drop(columns=['star_rating'])\n",
    "\n",
    "\n",
    "vine_user_lr_grouped.head()\n"
   ]
  },
  {
   "cell_type": "code",
   "execution_count": 20,
   "metadata": {},
   "outputs": [
    {
     "ename": "NameError",
     "evalue": "name 'freq_vine_users_df' is not defined",
     "output_type": "error",
     "traceback": [
      "\u001b[0;31m---------------------------------------------------------------------------\u001b[0m",
      "\u001b[0;31mNameError\u001b[0m                                 Traceback (most recent call last)",
      "\u001b[0;32m<ipython-input-20-b0971b2ab552>\u001b[0m in \u001b[0;36m<module>\u001b[0;34m\u001b[0m\n\u001b[0;32m----> 1\u001b[0;31m \u001b[0mmost_reviewed_vine_cus\u001b[0m \u001b[0;34m=\u001b[0m \u001b[0mfreq_vine_users_df\u001b[0m\u001b[0;34m[\u001b[0m\u001b[0mfreq_vine_users_df\u001b[0m\u001b[0;34m.\u001b[0m\u001b[0mcustomer_id\u001b[0m\u001b[0;34m==\u001b[0m\u001b[0;36m46877221\u001b[0m\u001b[0;34m]\u001b[0m\u001b[0;34m\u001b[0m\u001b[0;34m\u001b[0m\u001b[0m\n\u001b[0m\u001b[1;32m      2\u001b[0m \u001b[0mlen\u001b[0m\u001b[0;34m(\u001b[0m\u001b[0mmost_reviewed_vine_cus\u001b[0m\u001b[0;34m)\u001b[0m\u001b[0;34m\u001b[0m\u001b[0;34m\u001b[0m\u001b[0m\n\u001b[1;32m      3\u001b[0m \u001b[0mmost_reviewed_vine_cus\u001b[0m\u001b[0;34m.\u001b[0m\u001b[0miloc\u001b[0m\u001b[0;34m[\u001b[0m\u001b[0;36m0\u001b[0m\u001b[0;34m,\u001b[0m\u001b[0;34m:\u001b[0m\u001b[0;34m]\u001b[0m\u001b[0;34m\u001b[0m\u001b[0;34m\u001b[0m\u001b[0m\n",
      "\u001b[0;31mNameError\u001b[0m: name 'freq_vine_users_df' is not defined"
     ]
    }
   ],
   "source": [
    "most_reviewed_vine_cus = freq_vine_users_df[freq_vine_users_df.customer_id==46877221]\n",
    "len(most_reviewed_vine_cus)\n",
    "most_reviewed_vine_cus.iloc[0,:]"
   ]
  },
  {
   "cell_type": "markdown",
   "metadata": {},
   "source": [
    "## Text Preprocessing"
   ]
  },
  {
   "cell_type": "markdown",
   "metadata": {},
   "source": [
    "1. change product_title to review body\n",
    "2. date separations monthwise\n",
    "\n",
    "Plan\n",
    "3. separate vine vs non-vine topics\n",
    "4. text preprocessing - with spacy / nltk."
   ]
  },
  {
   "cell_type": "code",
   "execution_count": 72,
   "metadata": {},
   "outputs": [
    {
     "data": {
      "text/plain": [
       "(79248, 2)"
      ]
     },
     "execution_count": 72,
     "metadata": {},
     "output_type": "execute_result"
    }
   ],
   "source": [
    "regular_users_corpus = pd.DataFrame(all_regular_user, columns=['review_body', 'star_rating'])\n",
    "regular_users_corpus = regular_users_corpus.dropna()\n",
    "len(regular_users_corpus)\n",
    "regular_users_corpus.shape"
   ]
  },
  {
   "cell_type": "markdown",
   "metadata": {},
   "source": [
    "### Test Cleaning"
   ]
  },
  {
   "cell_type": "code",
   "execution_count": 73,
   "metadata": {},
   "outputs": [],
   "source": [
    "import regex as re\n",
    "def text_cleaning(corpus):\n",
    "    return re.sub(r'[^\\w]\\n', ' ', corpus)"
   ]
  },
  {
   "cell_type": "code",
   "execution_count": 74,
   "metadata": {},
   "outputs": [
    {
     "name": "stderr",
     "output_type": "stream",
     "text": [
      "/Users/samypalaniappan/opt/miniconda3/lib/python3.7/site-packages/ipykernel_launcher.py:2: SettingWithCopyWarning: \n",
      "A value is trying to be set on a copy of a slice from a DataFrame\n",
      "\n",
      "See the caveats in the documentation: http://pandas.pydata.org/pandas-docs/stable/user_guide/indexing.html#returning-a-view-versus-a-copy\n",
      "  \n"
     ]
    }
   ],
   "source": [
    "for i in range(len(regular_users_corpus.review_body)):\n",
    "    regular_users_corpus.review_body[i] = text_cleaning(regular_users_corpus.review_body[i])"
   ]
  },
  {
   "cell_type": "markdown",
   "metadata": {},
   "source": [
    "### Adding Stop Words"
   ]
  },
  {
   "cell_type": "code",
   "execution_count": 137,
   "metadata": {},
   "outputs": [],
   "source": [
    "stop_words = stopwords.words('english')"
   ]
  },
  {
   "cell_type": "code",
   "execution_count": 138,
   "metadata": {},
   "outputs": [],
   "source": [
    "sw_list1 = ['fascinating', 'enthralling', 'engrossing', 'nice', \n",
    "                        'people','youre', 'wa', 'book', 'good', 'buy', 'bought', \n",
    "                        'ok', 'better', 'best', 'help', 'little', 'br',\n",
    "                        'br br', 'author', 'book br', 'ha', 'expected', 'wasn',\n",
    "                        'okay', 'quite', 'story', 'really', 'didn', 'little',\n",
    "                        'information', 'disappointed', 'read', 'interesting', \n",
    "                        'read book', 'hard', 'easy', 'page', 'cover', 'small',\n",
    "                        'missing', 'quality', 'helpful', 'feel', 'description', \n",
    "                        'great', 'good', 'better', 'best','enjoy', 'boring', \n",
    "                        'poorly', 'he', 'awesome', 'bad', 'actually', 'words', \n",
    "                        'pages', 'thought', 'would', 'thing', 'well', 'written', 'read',\n",
    "                        'reading', 'thinking', 'get', 'could', 'many', 'lot', 'amazing',\n",
    "                        'also', 'books', 'perfect', 'way', 'make', 'us', 'highly', 'copy', \n",
    "                        'full', 'must', 'anyone', 'like', 'long', 'high', 'fast', 'wanted',\n",
    "                        'text', 'came', 'use', 'liked', 'wonderful', 'excellent', 'wait', \n",
    "                       'beautiful', 'see', 'thank', 'thanks', 'thanked', 'needed', 'got',\n",
    "                       'every', 'even', 'much', 'know', 'gave', 'give']\n",
    "stop_words.extend(sw_list1)"
   ]
  },
  {
   "cell_type": "markdown",
   "metadata": {},
   "source": [
    "#### POS - Adj / Adv removal"
   ]
  },
  {
   "cell_type": "code",
   "execution_count": 139,
   "metadata": {},
   "outputs": [],
   "source": [
    "from spacy import displacy\n",
    "from itertools import chain\n",
    "import itertools\n",
    "\n",
    "nlp = spacy.load('en_core_web_sm', disable=['ner', 'parser'])\n",
    "\n",
    "def add_stop_words(doc):\n",
    "    new_stop_words_ = []\n",
    "    for t in doc:\n",
    "            if (t.pos_ == 'ADJ') or (t.pos_ == 'ADV'):\n",
    "                new_stop_words_.append(t)\n",
    "    return list(set(new_stop_words_))\n",
    "\n",
    "sw_list2 = []\n",
    "for doc in nlp.pipe(regular_users_corpus.review_body):\n",
    "    sw_list2 = itertools.chain(sw_list2, add_stop_words(doc))"
   ]
  },
  {
   "cell_type": "code",
   "execution_count": 140,
   "metadata": {},
   "outputs": [
    {
     "data": {
      "text/plain": [
       "446882"
      ]
     },
     "execution_count": 140,
     "metadata": {},
     "output_type": "execute_result"
    }
   ],
   "source": [
    "for i in sw_list2:\n",
    "    stop_words.append(i)\n",
    "\n",
    "stop_words = list(set(stop_words))\n",
    "len(stop_words)"
   ]
  },
  {
   "cell_type": "markdown",
   "metadata": {},
   "source": [
    "#### bigrams"
   ]
  },
  {
   "cell_type": "code",
   "execution_count": null,
   "metadata": {},
   "outputs": [],
   "source": [
    "import gensim\n",
    "import gensim.corpora as corpora\n",
    "from gensim.utils import simple_preprocess\n",
    "from gensim.models import CoherenceModel"
   ]
  },
  {
   "cell_type": "code",
   "execution_count": null,
   "metadata": {},
   "outputs": [],
   "source": [
    "def strip_newline(series):\n",
    "    return [review.replace('\\n','') for review in series]\n",
    "\n",
    "def sent_to_words(sentences):\n",
    "    for sentence in sentences:\n",
    "        yield(gensim.utils.simple_preprocess(str(sentence), deacc=True))\n",
    "        \n",
    "def remove_stopwords(texts):\n",
    "    return [[word for word in simple_preprocess(str(doc)) if word not in stop_words] for doc in texts]"
   ]
  },
  {
   "cell_type": "code",
   "execution_count": null,
   "metadata": {},
   "outputs": [],
   "source": [
    "def bigrams(words, bi_min=15, tri_min=10):\n",
    "    bigram = gensim.models.Phrases(words, min_count = bi_min)\n",
    "    trigram = gensim.models.Phrases(bigram[words], min_count = tri_min)\n",
    "    bigram_mod = gensim.models.phrases.Phraser(bigram)\n",
    "    trigram_mod = gensim.models.phrases.Phraser(trigram)\n",
    "    return bigram_mod, trigram_mod"
   ]
  },
  {
   "cell_type": "code",
   "execution_count": null,
   "metadata": {},
   "outputs": [],
   "source": [
    "for doc in nlp.pipe(regular_users_corpus.review_body):\n",
    "    words = list(sent_to_words(doc))"
   ]
  },
  {
   "cell_type": "code",
   "execution_count": null,
   "metadata": {},
   "outputs": [],
   "source": [
    "words"
   ]
  },
  {
   "cell_type": "code",
   "execution_count": null,
   "metadata": {},
   "outputs": [],
   "source": [
    "bigram_tr, trigram_tr = bigrams(words)"
   ]
  },
  {
   "cell_type": "code",
   "execution_count": null,
   "metadata": {},
   "outputs": [],
   "source": [
    "bigram_tr"
   ]
  },
  {
   "cell_type": "code",
   "execution_count": 77,
   "metadata": {},
   "outputs": [
    {
     "data": {
      "text/plain": [
       "(79248, 175)"
      ]
     },
     "execution_count": 77,
     "metadata": {},
     "output_type": "execute_result"
    }
   ],
   "source": [
    "cv = CountVectorizer(stop_words=stop_words, min_df=0.01, max_df=0.8)\n",
    "doc_word = cv.fit_transform(regular_users_corpus.review_body)\n",
    "cv_corpus = pd.DataFrame(doc_word.toarray(), columns=cv.get_feature_names(), index=regular_users_corpus.index)\n",
    "cv_corpus.shape\n"
   ]
  },
  {
   "cell_type": "markdown",
   "metadata": {},
   "source": [
    "### Testing Spacy\n",
    "#### Spacy to get parts of speech (pos_) and dependency (dep_)\n"
   ]
  },
  {
   "cell_type": "markdown",
   "metadata": {},
   "source": [
    "#### Spacy nlp.pipe to process documents"
   ]
  },
  {
   "cell_type": "code",
   "execution_count": null,
   "metadata": {},
   "outputs": [],
   "source": [
    "# %%time\n",
    "# from spacy import displacy\n",
    "# nlp = spacy.load('en_core_web_sm')\n",
    "\n",
    "# def text_preprocess(text):\n",
    "#     doc = nlp(text)\n",
    "#     for t in doc:\n",
    "#         if t.lower_ in ['awesome', 'super', 'excellent']:\n",
    "#             if t.pos_ != 'NOUN' :\n",
    "#                 if t.dep_ != 'amod':\n",
    "#                     return True\n",
    "#     return False\n",
    "\n",
    "# #generator\n",
    "# new_corpora = (i for i in corpus if text_preprocess(i))\n",
    "# [next(new_corpora) for i in range (3)]"
   ]
  },
  {
   "cell_type": "code",
   "execution_count": null,
   "metadata": {},
   "outputs": [],
   "source": [
    "# sentence = \"The book was super interesting.\"\n",
    "# displacy.render(nlp(sentence))\n",
    "# #spacy.explain(\"acomp\")"
   ]
  },
  {
   "cell_type": "markdown",
   "metadata": {},
   "source": [
    "### Lemmatize and Stemming"
   ]
  },
  {
   "cell_type": "code",
   "execution_count": 134,
   "metadata": {},
   "outputs": [],
   "source": [
    "stop_words = pd.read_csv('stop_words.csv')"
   ]
  },
  {
   "cell_type": "code",
   "execution_count": 89,
   "metadata": {},
   "outputs": [],
   "source": [
    "from nltk.stem.lancaster import LancasterStemmer\n",
    "from nltk.stem.snowball import SnowballStemmer\n",
    "snowball_stem = SnowballStemmer('english')\n",
    "lancaster_stem = LancasterStemmer('english')\n",
    "\n",
    "from nltk import WordNetLemmatizer\n",
    "lemmatizer = WordNetLemmatizer()"
   ]
  },
  {
   "cell_type": "code",
   "execution_count": 90,
   "metadata": {},
   "outputs": [],
   "source": [
    "def snowball(text):\n",
    "    return ' '.join([snowball_stem.stem(word) for word in text.split(' ')])\n",
    "\n",
    "def lancaster(text):\n",
    "    return ' '.join([lancaster_stem.stem(word) for word in text.split(' ')])\n",
    "\n",
    "def lemmatize(text):\n",
    "    return ' '.join([lemmatizer.lemmatize(word) for word in text.split(' ')])"
   ]
  },
  {
   "cell_type": "code",
   "execution_count": 91,
   "metadata": {},
   "outputs": [
    {
     "data": {
      "text/plain": [
       "79248"
      ]
     },
     "metadata": {},
     "output_type": "display_data"
    },
    {
     "data": {
      "text/html": [
       "<div>\n",
       "<style scoped>\n",
       "    .dataframe tbody tr th:only-of-type {\n",
       "        vertical-align: middle;\n",
       "    }\n",
       "\n",
       "    .dataframe tbody tr th {\n",
       "        vertical-align: top;\n",
       "    }\n",
       "\n",
       "    .dataframe thead th {\n",
       "        text-align: right;\n",
       "    }\n",
       "</style>\n",
       "<table border=\"1\" class=\"dataframe\">\n",
       "  <thead>\n",
       "    <tr style=\"text-align: right;\">\n",
       "      <th></th>\n",
       "      <th>review_body</th>\n",
       "      <th>star_rating</th>\n",
       "      <th>lemmatized</th>\n",
       "    </tr>\n",
       "    <tr>\n",
       "      <th>review_id</th>\n",
       "      <th></th>\n",
       "      <th></th>\n",
       "      <th></th>\n",
       "    </tr>\n",
       "  </thead>\n",
       "  <tbody>\n",
       "    <tr>\n",
       "      <td>R3GJHPLT45ZSLV</td>\n",
       "      <td>SMALL - Great for back pack - very comprehensive</td>\n",
       "      <td>5</td>\n",
       "      <td>SMALL - Great for back pack - very comprehensive</td>\n",
       "    </tr>\n",
       "    <tr>\n",
       "      <td>R2C017D3ADTBII</td>\n",
       "      <td>Very cool pictures  perfect for the fashionist...</td>\n",
       "      <td>5</td>\n",
       "      <td>Very cool picture  perfect for the fashionista...</td>\n",
       "    </tr>\n",
       "    <tr>\n",
       "      <td>R1L2667KTPKDWN</td>\n",
       "      <td>They  are beautiful and sexy pictures. The guy...</td>\n",
       "      <td>5</td>\n",
       "      <td>They  are beautiful and sexy pictures. The guy...</td>\n",
       "    </tr>\n",
       "    <tr>\n",
       "      <td>RYDSPFN841JWR</td>\n",
       "      <td>Cute book to go with a great activity I do wit...</td>\n",
       "      <td>5</td>\n",
       "      <td>Cute book to go with a great activity I do wit...</td>\n",
       "    </tr>\n",
       "    <tr>\n",
       "      <td>R2LHNFS21BJQ2N</td>\n",
       "      <td>One of the best guide books in print for survi...</td>\n",
       "      <td>5</td>\n",
       "      <td>One of the best guide book in print for surviv...</td>\n",
       "    </tr>\n",
       "  </tbody>\n",
       "</table>\n",
       "</div>"
      ],
      "text/plain": [
       "                                                      review_body  \\\n",
       "review_id                                                           \n",
       "R3GJHPLT45ZSLV   SMALL - Great for back pack - very comprehensive   \n",
       "R2C017D3ADTBII  Very cool pictures  perfect for the fashionist...   \n",
       "R1L2667KTPKDWN  They  are beautiful and sexy pictures. The guy...   \n",
       "RYDSPFN841JWR   Cute book to go with a great activity I do wit...   \n",
       "R2LHNFS21BJQ2N  One of the best guide books in print for survi...   \n",
       "\n",
       "                star_rating                                         lemmatized  \n",
       "review_id                                                                       \n",
       "R3GJHPLT45ZSLV            5   SMALL - Great for back pack - very comprehensive  \n",
       "R2C017D3ADTBII            5  Very cool picture  perfect for the fashionista...  \n",
       "R1L2667KTPKDWN            5  They  are beautiful and sexy pictures. The guy...  \n",
       "RYDSPFN841JWR             5  Cute book to go with a great activity I do wit...  \n",
       "R2LHNFS21BJQ2N            5  One of the best guide book in print for surviv...  "
      ]
     },
     "execution_count": 91,
     "metadata": {},
     "output_type": "execute_result"
    }
   ],
   "source": [
    "display(len(regular_users_corpus.review_body))\n",
    "regular_users_corpus.head()"
   ]
  },
  {
   "cell_type": "code",
   "execution_count": null,
   "metadata": {
    "scrolled": true
   },
   "outputs": [],
   "source": [
    "#regular_users_corpus['snowball'] = regular_users_corpus.review_body.apply(snowball)"
   ]
  },
  {
   "cell_type": "code",
   "execution_count": 93,
   "metadata": {},
   "outputs": [],
   "source": [
    "#corpus['lancaster'] = corpus.review_body.apply(lancaster)"
   ]
  },
  {
   "cell_type": "code",
   "execution_count": 94,
   "metadata": {},
   "outputs": [],
   "source": [
    "regular_users_corpus['lemmatized'] = regular_users_corpus.review_body.apply(lemmatize)"
   ]
  },
  {
   "cell_type": "code",
   "execution_count": 129,
   "metadata": {},
   "outputs": [
    {
     "data": {
      "text/plain": [
       "(79248, 3)"
      ]
     },
     "execution_count": 129,
     "metadata": {},
     "output_type": "execute_result"
    }
   ],
   "source": [
    "regular_users_corpus = regular_users_corpus.dropna()\n",
    "regular_users_corpus.shape"
   ]
  },
  {
   "cell_type": "markdown",
   "metadata": {},
   "source": [
    "### Countvectorizer and TFIDF"
   ]
  },
  {
   "cell_type": "code",
   "execution_count": 98,
   "metadata": {},
   "outputs": [],
   "source": [
    "# tfidf_stemmed = TfidfVectorizer(stop_words=stop_words, ngram_range=(1,2), min_df=0.01, max_df=0.8)\n",
    "# X_tfidf_stemmed = tfidf_stemmed.fit_transform(regular_users_corpus.snowball)\n",
    "\n",
    "# tfidf_stemmed_dtm = pd.DataFrame(X_tfidf_stemmed.toarray(), columns=tfidf_stemmed.get_feature_names(), index=regular_users_corpus.lemmatized.index)\n",
    "# tfidf_stemmed_dtm.head()"
   ]
  },
  {
   "cell_type": "code",
   "execution_count": 141,
   "metadata": {},
   "outputs": [
    {
     "data": {
      "text/plain": [
       "(79248, 178)"
      ]
     },
     "execution_count": 141,
     "metadata": {},
     "output_type": "execute_result"
    }
   ],
   "source": [
    "tfidf = TfidfVectorizer(stop_words=stop_words, ngram_range=(1,2), min_df=0.01, max_df=0.1)\n",
    "X_tfidf = tfidf.fit_transform(regular_users_corpus.lemmatized)\n",
    "\n",
    "tfidf_dtm = pd.DataFrame(X_tfidf.toarray(), columns=tfidf.get_feature_names(), index=regular_users_corpus.lemmatized.index)\n",
    "tfidf_dtm.shape"
   ]
  },
  {
   "cell_type": "code",
   "execution_count": 142,
   "metadata": {},
   "outputs": [
    {
     "data": {
      "text/html": [
       "<div>\n",
       "<style scoped>\n",
       "    .dataframe tbody tr th:only-of-type {\n",
       "        vertical-align: middle;\n",
       "    }\n",
       "\n",
       "    .dataframe tbody tr th {\n",
       "        vertical-align: top;\n",
       "    }\n",
       "\n",
       "    .dataframe thead th {\n",
       "        text-align: right;\n",
       "    }\n",
       "</style>\n",
       "<table border=\"1\" class=\"dataframe\">\n",
       "  <thead>\n",
       "    <tr style=\"text-align: right;\">\n",
       "      <th></th>\n",
       "      <th>able</th>\n",
       "      <th>absolutely</th>\n",
       "      <th>almost</th>\n",
       "      <th>along</th>\n",
       "      <th>already</th>\n",
       "      <th>always</th>\n",
       "      <th>another</th>\n",
       "      <th>anything</th>\n",
       "      <th>around</th>\n",
       "      <th>arrived</th>\n",
       "      <th>...</th>\n",
       "      <th>word</th>\n",
       "      <th>work</th>\n",
       "      <th>world</th>\n",
       "      <th>worth</th>\n",
       "      <th>writer</th>\n",
       "      <th>writing</th>\n",
       "      <th>year</th>\n",
       "      <th>year old</th>\n",
       "      <th>yet</th>\n",
       "      <th>young</th>\n",
       "    </tr>\n",
       "    <tr>\n",
       "      <th>review_id</th>\n",
       "      <th></th>\n",
       "      <th></th>\n",
       "      <th></th>\n",
       "      <th></th>\n",
       "      <th></th>\n",
       "      <th></th>\n",
       "      <th></th>\n",
       "      <th></th>\n",
       "      <th></th>\n",
       "      <th></th>\n",
       "      <th></th>\n",
       "      <th></th>\n",
       "      <th></th>\n",
       "      <th></th>\n",
       "      <th></th>\n",
       "      <th></th>\n",
       "      <th></th>\n",
       "      <th></th>\n",
       "      <th></th>\n",
       "      <th></th>\n",
       "      <th></th>\n",
       "    </tr>\n",
       "  </thead>\n",
       "  <tbody>\n",
       "    <tr>\n",
       "      <td>R3GJHPLT45ZSLV</td>\n",
       "      <td>0</td>\n",
       "      <td>0</td>\n",
       "      <td>0</td>\n",
       "      <td>0</td>\n",
       "      <td>0</td>\n",
       "      <td>0</td>\n",
       "      <td>0</td>\n",
       "      <td>0</td>\n",
       "      <td>0</td>\n",
       "      <td>0</td>\n",
       "      <td>...</td>\n",
       "      <td>0</td>\n",
       "      <td>0</td>\n",
       "      <td>0</td>\n",
       "      <td>0</td>\n",
       "      <td>0</td>\n",
       "      <td>0</td>\n",
       "      <td>0</td>\n",
       "      <td>0</td>\n",
       "      <td>0</td>\n",
       "      <td>0</td>\n",
       "    </tr>\n",
       "    <tr>\n",
       "      <td>R2C017D3ADTBII</td>\n",
       "      <td>0</td>\n",
       "      <td>0</td>\n",
       "      <td>0</td>\n",
       "      <td>0</td>\n",
       "      <td>0</td>\n",
       "      <td>0</td>\n",
       "      <td>0</td>\n",
       "      <td>0</td>\n",
       "      <td>0</td>\n",
       "      <td>0</td>\n",
       "      <td>...</td>\n",
       "      <td>0</td>\n",
       "      <td>0</td>\n",
       "      <td>0</td>\n",
       "      <td>0</td>\n",
       "      <td>0</td>\n",
       "      <td>0</td>\n",
       "      <td>0</td>\n",
       "      <td>0</td>\n",
       "      <td>0</td>\n",
       "      <td>0</td>\n",
       "    </tr>\n",
       "    <tr>\n",
       "      <td>R1L2667KTPKDWN</td>\n",
       "      <td>0</td>\n",
       "      <td>0</td>\n",
       "      <td>0</td>\n",
       "      <td>0</td>\n",
       "      <td>0</td>\n",
       "      <td>0</td>\n",
       "      <td>0</td>\n",
       "      <td>0</td>\n",
       "      <td>0</td>\n",
       "      <td>0</td>\n",
       "      <td>...</td>\n",
       "      <td>0</td>\n",
       "      <td>0</td>\n",
       "      <td>0</td>\n",
       "      <td>0</td>\n",
       "      <td>0</td>\n",
       "      <td>0</td>\n",
       "      <td>0</td>\n",
       "      <td>0</td>\n",
       "      <td>0</td>\n",
       "      <td>0</td>\n",
       "    </tr>\n",
       "    <tr>\n",
       "      <td>RYDSPFN841JWR</td>\n",
       "      <td>0</td>\n",
       "      <td>0</td>\n",
       "      <td>0</td>\n",
       "      <td>0</td>\n",
       "      <td>0</td>\n",
       "      <td>0</td>\n",
       "      <td>0</td>\n",
       "      <td>0</td>\n",
       "      <td>0</td>\n",
       "      <td>0</td>\n",
       "      <td>...</td>\n",
       "      <td>0</td>\n",
       "      <td>0</td>\n",
       "      <td>0</td>\n",
       "      <td>0</td>\n",
       "      <td>0</td>\n",
       "      <td>0</td>\n",
       "      <td>0</td>\n",
       "      <td>0</td>\n",
       "      <td>0</td>\n",
       "      <td>0</td>\n",
       "    </tr>\n",
       "    <tr>\n",
       "      <td>R2LHNFS21BJQ2N</td>\n",
       "      <td>0</td>\n",
       "      <td>0</td>\n",
       "      <td>0</td>\n",
       "      <td>0</td>\n",
       "      <td>0</td>\n",
       "      <td>0</td>\n",
       "      <td>0</td>\n",
       "      <td>0</td>\n",
       "      <td>0</td>\n",
       "      <td>0</td>\n",
       "      <td>...</td>\n",
       "      <td>0</td>\n",
       "      <td>0</td>\n",
       "      <td>0</td>\n",
       "      <td>0</td>\n",
       "      <td>0</td>\n",
       "      <td>0</td>\n",
       "      <td>0</td>\n",
       "      <td>0</td>\n",
       "      <td>0</td>\n",
       "      <td>0</td>\n",
       "    </tr>\n",
       "  </tbody>\n",
       "</table>\n",
       "<p>5 rows × 178 columns</p>\n",
       "</div>"
      ],
      "text/plain": [
       "                able  absolutely  almost  along  already  always  another  \\\n",
       "review_id                                                                   \n",
       "R3GJHPLT45ZSLV     0           0       0      0        0       0        0   \n",
       "R2C017D3ADTBII     0           0       0      0        0       0        0   \n",
       "R1L2667KTPKDWN     0           0       0      0        0       0        0   \n",
       "RYDSPFN841JWR      0           0       0      0        0       0        0   \n",
       "R2LHNFS21BJQ2N     0           0       0      0        0       0        0   \n",
       "\n",
       "                anything  around  arrived  ...  word  work  world  worth  \\\n",
       "review_id                                  ...                             \n",
       "R3GJHPLT45ZSLV         0       0        0  ...     0     0      0      0   \n",
       "R2C017D3ADTBII         0       0        0  ...     0     0      0      0   \n",
       "R1L2667KTPKDWN         0       0        0  ...     0     0      0      0   \n",
       "RYDSPFN841JWR          0       0        0  ...     0     0      0      0   \n",
       "R2LHNFS21BJQ2N         0       0        0  ...     0     0      0      0   \n",
       "\n",
       "                writer  writing  year  year old  yet  young  \n",
       "review_id                                                    \n",
       "R3GJHPLT45ZSLV       0        0     0         0    0      0  \n",
       "R2C017D3ADTBII       0        0     0         0    0      0  \n",
       "R1L2667KTPKDWN       0        0     0         0    0      0  \n",
       "RYDSPFN841JWR        0        0     0         0    0      0  \n",
       "R2LHNFS21BJQ2N       0        0     0         0    0      0  \n",
       "\n",
       "[5 rows x 178 columns]"
      ]
     },
     "execution_count": 142,
     "metadata": {},
     "output_type": "execute_result"
    }
   ],
   "source": [
    "cv = CountVectorizer(stop_words=stop_words, ngram_range=(1,2), min_df=0.01, max_df=0.1)\n",
    "X_cv = cv.fit_transform(regular_users_corpus.lemmatized)\n",
    "\n",
    "cv_dtm = pd.DataFrame(X_cv.toarray(), columns=cv.get_feature_names(), index=regular_users_corpus.lemmatized.index)\n",
    "cv_dtm.head()"
   ]
  },
  {
   "cell_type": "markdown",
   "metadata": {},
   "source": [
    "## Clustering"
   ]
  },
  {
   "cell_type": "code",
   "execution_count": 143,
   "metadata": {},
   "outputs": [],
   "source": [
    "def cluster_plots(n_clusters, doc_word, vec, cat=False):\n",
    "    km = KMeans(n_clusters=n_clusters, init='k-means++', max_iter=100, n_init=5, random_state=5, verbose=False)\n",
    "    km.fit(doc_word)\n",
    "    print(\"Silhouette Coefficient: %0.3f\"\n",
    "    % metrics.silhouette_score(doc_word, km.labels_, sample_size=1000))\n",
    "    order_centroids = km.cluster_centers_.argsort()[:, ::-1]\n",
    "    terms = vec.get_feature_names()\n",
    "    if cat == True:\n",
    "        for i in range(n_clusters):\n",
    "            print(\"Cluster %d:\" % i)\n",
    "            for j in order_centroids[i, :12]:\n",
    "                print(' %s\\n' % terms[j], end='')\n",
    "        print()\n",
    "    clust_plot = InterclusterDistance(km)\n",
    "    clust_plot.fit(doc_word,km.labels_)"
   ]
  },
  {
   "cell_type": "code",
   "execution_count": 144,
   "metadata": {},
   "outputs": [],
   "source": [
    "def find_optimal_clusters(data, min_k=2, max_k=16, delta_k=2):\n",
    "    iters = range(min_k, max_k+1,delta_k)\n",
    "    \n",
    "    sse = []\n",
    "    for k in iters:\n",
    "        sse.append(MiniBatchKMeans(n_clusters=k, random_state=87,batch_size=1500,n_init=8).fit(data).inertia_)\n",
    "        print(f'Fit {k} clusters')\n",
    "        \n",
    "    f, ax = plt.subplots(1, 1)\n",
    "    ax.plot(iters, sse, marker='o')\n",
    "    ax.set_xlabel('no. clusters')\n",
    "    ax.set_xticks(iters)\n",
    "    ax.set_xticklabels(iters)\n",
    "    ax.set_ylabel('inertia')\n",
    "    ax.set_title('inertia by no. clusters')"
   ]
  },
  {
   "cell_type": "code",
   "execution_count": 145,
   "metadata": {},
   "outputs": [
    {
     "name": "stdout",
     "output_type": "stream",
     "text": [
      "Fit 2 clusters\n",
      "Fit 3 clusters\n",
      "Fit 4 clusters\n",
      "Fit 5 clusters\n",
      "Fit 6 clusters\n",
      "Fit 7 clusters\n",
      "Fit 8 clusters\n",
      "Fit 9 clusters\n",
      "Fit 10 clusters\n",
      "Fit 11 clusters\n",
      "Fit 12 clusters\n",
      "Fit 13 clusters\n",
      "Fit 14 clusters\n",
      "Fit 15 clusters\n",
      "Fit 16 clusters\n"
     ]
    },
    {
     "data": {
      "image/png": "[encoded data removed]",
      "text/plain": [
       "<Figure size 432x288 with 1 Axes>"
      ]
     },
     "metadata": {},
     "output_type": "display_data"
    }
   ],
   "source": [
    "find_optimal_clusters(X_tfidf, min_k=2, max_k=16, delta_k=1)"
   ]
  },
  {
   "cell_type": "code",
   "execution_count": 146,
   "metadata": {},
   "outputs": [
    {
     "name": "stdout",
     "output_type": "stream",
     "text": [
      "Fit 2 clusters\n",
      "Fit 3 clusters\n",
      "Fit 4 clusters\n",
      "Fit 5 clusters\n",
      "Fit 6 clusters\n",
      "Fit 7 clusters\n",
      "Fit 8 clusters\n",
      "Fit 9 clusters\n",
      "Fit 10 clusters\n",
      "Fit 11 clusters\n",
      "Fit 12 clusters\n",
      "Fit 13 clusters\n",
      "Fit 14 clusters\n",
      "Fit 15 clusters\n",
      "Fit 16 clusters\n"
     ]
    },
    {
     "data": {
      "image/png": "[encoded data removed]",
      "text/plain": [
       "<Figure size 432x288 with 1 Axes>"
      ]
     },
     "metadata": {},
     "output_type": "display_data"
    }
   ],
   "source": [
    "find_optimal_clusters(X_cv, min_k=2, max_k=16, delta_k=1)"
   ]
  },
  {
   "cell_type": "code",
   "execution_count": 147,
   "metadata": {},
   "outputs": [
    {
     "name": "stdout",
     "output_type": "stream",
     "text": [
      "Silhouette Coefficient: 0.491\n",
      "Cluster 0:\n",
      " loved\n",
      " recommend\n",
      " time\n",
      " series\n",
      " new\n",
      " year\n",
      " gift\n",
      " fun\n",
      " condition\n",
      " enjoyed\n",
      " work\n",
      " old\n",
      "Cluster 1:\n",
      " time\n",
      " life\n",
      " first\n",
      " year\n",
      " character\n",
      " work\n",
      " want\n",
      " new\n",
      " find\n",
      " think\n",
      " series\n",
      " recommend\n",
      "Cluster 2:\n",
      " time\n",
      " work\n",
      " life\n",
      " world\n",
      " never\n",
      " may\n",
      " go\n",
      " say\n",
      " year\n",
      " doe\n",
      " want\n",
      " think\n",
      "Cluster 3:\n",
      " time\n",
      " life\n",
      " character\n",
      " first\n",
      " work\n",
      " year\n",
      " new\n",
      " two\n",
      " world\n",
      " think\n",
      " series\n",
      " go\n",
      "\n"
     ]
    },
    {
     "data": {
      "image/png": "[encoded data removed]",
      "text/plain": [
       "<Figure size 432x288 with 2 Axes>"
      ]
     },
     "metadata": {},
     "output_type": "display_data"
    }
   ],
   "source": [
    "cluster_plots(4, X_cv, cv, cat=True)"
   ]
  },
  {
   "cell_type": "code",
   "execution_count": 148,
   "metadata": {},
   "outputs": [
    {
     "name": "stdout",
     "output_type": "stream",
     "text": [
      "Silhouette Coefficient: 0.372\n",
      "Cluster 0:\n",
      " time\n",
      " life\n",
      " first\n",
      " character\n",
      " work\n",
      " want\n",
      " find\n",
      " series\n",
      " new\n",
      " think\n",
      " take\n",
      " recommend\n",
      "Cluster 1:\n",
      " year\n",
      " old\n",
      " year old\n",
      " time\n",
      " first\n",
      " loved\n",
      " new\n",
      " recommend\n",
      " son\n",
      " daughter\n",
      " still\n",
      " child\n",
      "Cluster 2:\n",
      " time\n",
      " life\n",
      " character\n",
      " first\n",
      " work\n",
      " new\n",
      " year\n",
      " two\n",
      " world\n",
      " series\n",
      " think\n",
      " go\n",
      "Cluster 3:\n",
      " time\n",
      " life\n",
      " work\n",
      " world\n",
      " may\n",
      " year\n",
      " never\n",
      " go\n",
      " first\n",
      " say\n",
      " want\n",
      " doe\n",
      "Cluster 4:\n",
      " loved\n",
      " recommend\n",
      " time\n",
      " series\n",
      " new\n",
      " condition\n",
      " gift\n",
      " fun\n",
      " work\n",
      " enjoyed\n",
      " life\n",
      " need\n",
      "\n"
     ]
    },
    {
     "data": {
      "image/png": "[encoded data removed]",
      "text/plain": [
       "<Figure size 432x288 with 2 Axes>"
      ]
     },
     "metadata": {},
     "output_type": "display_data"
    }
   ],
   "source": [
    "cluster_plots(5, X_cv, cv, cat=True)"
   ]
  },
  {
   "cell_type": "code",
   "execution_count": 149,
   "metadata": {},
   "outputs": [
    {
     "name": "stdout",
     "output_type": "stream",
     "text": [
      "Silhouette Coefficient: 0.337\n",
      "Cluster 0:\n",
      " life\n",
      " character\n",
      " first\n",
      " work\n",
      " series\n",
      " want\n",
      " new\n",
      " find\n",
      " think\n",
      " world\n",
      " go\n",
      " reader\n",
      "Cluster 1:\n",
      " year\n",
      " old\n",
      " year old\n",
      " time\n",
      " son\n",
      " daughter\n",
      " loved\n",
      " child\n",
      " recommend\n",
      " kid\n",
      " day\n",
      " first\n",
      "Cluster 2:\n",
      " time\n",
      " life\n",
      " character\n",
      " first\n",
      " work\n",
      " new\n",
      " year\n",
      " two\n",
      " world\n",
      " think\n",
      " series\n",
      " say\n",
      "Cluster 3:\n",
      " time\n",
      " work\n",
      " life\n",
      " world\n",
      " may\n",
      " never\n",
      " year\n",
      " go\n",
      " first\n",
      " say\n",
      " want\n",
      " still\n",
      "Cluster 4:\n",
      " loved\n",
      " recommend\n",
      " series\n",
      " new\n",
      " gift\n",
      " condition\n",
      " fun\n",
      " work\n",
      " enjoyed\n",
      " first\n",
      " need\n",
      " want\n",
      "Cluster 5:\n",
      " time\n",
      " first\n",
      " recommend\n",
      " work\n",
      " life\n",
      " take\n",
      " new\n",
      " year\n",
      " find\n",
      " want\n",
      " back\n",
      " think\n",
      "\n"
     ]
    },
    {
     "data": {
      "image/png": "[encoded data removed]",
      "text/plain": [
       "<Figure size 432x288 with 2 Axes>"
      ]
     },
     "metadata": {},
     "output_type": "display_data"
    }
   ],
   "source": [
    "cluster_plots(6, X_cv, cv, cat=True)"
   ]
  },
  {
   "cell_type": "code",
   "execution_count": 150,
   "metadata": {},
   "outputs": [
    {
     "name": "stdout",
     "output_type": "stream",
     "text": [
      "Silhouette Coefficient: 0.163\n",
      "Cluster 0:\n",
      " favorite\n",
      " time\n",
      " series\n",
      " year\n",
      " new\n",
      " far\n",
      " old\n",
      " daughter\n",
      " son\n",
      " child\n",
      " character\n",
      " ever\n",
      "Cluster 1:\n",
      " condition\n",
      " arrived\n",
      " price\n",
      " received\n",
      " new\n",
      " happy\n",
      " described\n",
      " purchase\n",
      " time\n",
      " used\n",
      " exactly\n",
      " loved\n",
      "Cluster 2:\n",
      " fun\n",
      " kid\n",
      " old\n",
      " time\n",
      " color\n",
      " year\n",
      " cute\n",
      " child\n",
      " loved\n",
      " year old\n",
      " picture\n",
      " series\n",
      "Cluster 3:\n",
      " time\n",
      " loved\n",
      " life\n",
      " recommend\n",
      " series\n",
      " year\n",
      " new\n",
      " gift\n",
      " work\n",
      " first\n",
      " enjoyed\n",
      " old\n",
      "\n"
     ]
    },
    {
     "data": {
      "image/png": "[encoded data removed]",
      "text/plain": [
       "<Figure size 432x288 with 2 Axes>"
      ]
     },
     "metadata": {},
     "output_type": "display_data"
    }
   ],
   "source": [
    "cluster_plots(4, X_tfidf, tfidf, cat=True)"
   ]
  },
  {
   "cell_type": "code",
   "execution_count": 151,
   "metadata": {},
   "outputs": [
    {
     "name": "stdout",
     "output_type": "stream",
     "text": [
      "Silhouette Coefficient: 0.141\n",
      "Cluster 0:\n",
      " favorite\n",
      " time\n",
      " series\n",
      " far\n",
      " year\n",
      " old\n",
      " new\n",
      " daughter\n",
      " son\n",
      " ever\n",
      " child\n",
      " character\n",
      "Cluster 1:\n",
      " condition\n",
      " arrived\n",
      " price\n",
      " received\n",
      " new\n",
      " happy\n",
      " described\n",
      " purchase\n",
      " time\n",
      " used\n",
      " exactly\n",
      " loved\n",
      "Cluster 2:\n",
      " fun\n",
      " kid\n",
      " old\n",
      " color\n",
      " time\n",
      " year\n",
      " cute\n",
      " year old\n",
      " child\n",
      " loved\n",
      " series\n",
      " picture\n",
      "Cluster 3:\n",
      " loved\n",
      " time\n",
      " life\n",
      " recommend\n",
      " series\n",
      " gift\n",
      " new\n",
      " year\n",
      " work\n",
      " enjoyed\n",
      " old\n",
      " need\n",
      "Cluster 4:\n",
      " first\n",
      " time\n",
      " series\n",
      " character\n",
      " year\n",
      " second\n",
      " life\n",
      " two\n",
      " novel\n",
      " chapter\n",
      " new\n",
      " work\n",
      "\n"
     ]
    },
    {
     "data": {
      "image/png": "[encoded data removed]",
      "text/plain": [
       "<Figure size 432x288 with 2 Axes>"
      ]
     },
     "metadata": {},
     "output_type": "display_data"
    }
   ],
   "source": [
    "cluster_plots(5, X_tfidf, tfidf, cat=True)"
   ]
  },
  {
   "cell_type": "code",
   "execution_count": 152,
   "metadata": {},
   "outputs": [
    {
     "name": "stdout",
     "output_type": "stream",
     "text": [
      "Silhouette Coefficient: 0.140\n",
      "Cluster 0:\n",
      " time\n",
      " life\n",
      " recommend\n",
      " condition\n",
      " new\n",
      " series\n",
      " year\n",
      " work\n",
      " gift\n",
      " enjoyed\n",
      " first\n",
      " need\n",
      "Cluster 1:\n",
      " fun\n",
      " kid\n",
      " old\n",
      " color\n",
      " year\n",
      " time\n",
      " child\n",
      " year old\n",
      " loved\n",
      " enjoyed\n",
      " series\n",
      " recommend\n",
      "Cluster 2:\n",
      " ever\n",
      " time\n",
      " life\n",
      " favorite\n",
      " first\n",
      " recommend\n",
      " year\n",
      " never\n",
      " work\n",
      " recipe\n",
      " everything\n",
      " far\n",
      "Cluster 3:\n",
      " character\n",
      " series\n",
      " novel\n",
      " time\n",
      " life\n",
      " first\n",
      " reader\n",
      " end\n",
      " world\n",
      " writing\n",
      " enjoyed\n",
      " two\n",
      "Cluster 4:\n",
      " cute\n",
      " old\n",
      " fun\n",
      " picture\n",
      " son\n",
      " daughter\n",
      " gift\n",
      " year old\n",
      " year\n",
      " loved\n",
      " time\n",
      " kid\n",
      "Cluster 5:\n",
      " loved\n",
      " gift\n",
      " daughter\n",
      " son\n",
      " old\n",
      " series\n",
      " year\n",
      " kid\n",
      " year old\n",
      " friend\n",
      " put\n",
      " first\n",
      "\n"
     ]
    },
    {
     "data": {
      "image/png": "[encoded data removed]",
      "text/plain": [
       "<Figure size 432x288 with 2 Axes>"
      ]
     },
     "metadata": {},
     "output_type": "display_data"
    }
   ],
   "source": [
    "cluster_plots(6, X_tfidf, tfidf, cat=True)"
   ]
  },
  {
   "cell_type": "markdown",
   "metadata": {},
   "source": [
    "## Topic Modeling"
   ]
  },
  {
   "cell_type": "code",
   "execution_count": 153,
   "metadata": {},
   "outputs": [],
   "source": [
    "def display_topics(model, feature_names, no_top_words, topic_names=None):\n",
    "    for ix, topic in enumerate(model.components_):\n",
    "        if not topic_names or not topic_names[ix]:\n",
    "            print(\"\\nTopic \", ix)\n",
    "        else:\n",
    "            print(\"\\nTopic: '\",topic_names[ix],\"'\")\n",
    "        print(\", \".join([feature_names[i]\n",
    "                        for i in topic.argsort()[:-no_top_words - 1:-1]]))"
   ]
  },
  {
   "cell_type": "markdown",
   "metadata": {},
   "source": [
    "### NMF"
   ]
  },
  {
   "cell_type": "code",
   "execution_count": 161,
   "metadata": {},
   "outputs": [],
   "source": [
    "def nmf_test(X, vec, dim):\n",
    "    \n",
    "    nmf = NMF(dim, random_state=5)\n",
    "    nmf_topic = nmf.fit_transform(X)\n",
    "    nmf_word = pd.DataFrame(nmf.components_.round(2),\n",
    "                           index=np.arange(1,dim+1),\n",
    "                           columns=vec.get_feature_names())\n",
    "    topics = nmf_word.transpose()\n",
    "    for i, categories in enumerate(topics.columns):\n",
    "        keywords = topics.loc[:,categories].sort_values(ascending=False).head(5)\n",
    "        print(f'Topic {i}: {keywords.index.values}\\n')\n",
    "        \n",
    "    return nmf, nmf_topic"
   ]
  },
  {
   "cell_type": "code",
   "execution_count": 162,
   "metadata": {},
   "outputs": [
    {
     "name": "stdout",
     "output_type": "stream",
     "text": [
      "Topic 0: ['time' 'life' 'year' 'recommend' 'new']\n",
      "\n",
      "Topic 1: ['loved' 'daughter' 'son' 'kid' 'old']\n",
      "\n",
      "Topic 2: ['condition' 'arrived' 'price' 'described' 'new']\n",
      "\n",
      "Topic 3: ['series' 'character' 'enjoyed' 'next' 'whole']\n",
      "\n",
      "Topic 4: ['gift' 'friend' 'daughter' 'purchased' 'happy']\n",
      "\n"
     ]
    },
    {
     "data": {
      "text/plain": [
       "79248"
      ]
     },
     "execution_count": 162,
     "metadata": {},
     "output_type": "execute_result"
    }
   ],
   "source": [
    "nmf_5, topics_5 = nmf_test(X_tfidf, tfidf, 5)\n",
    "len(topics_5)"
   ]
  },
  {
   "cell_type": "code",
   "execution_count": 163,
   "metadata": {},
   "outputs": [
    {
     "name": "stdout",
     "output_type": "stream",
     "text": [
      "Topic 0: ['life' 'year' 'recommend' 'new' 'work']\n",
      "\n",
      "Topic 1: ['loved' 'daughter' 'son' 'kid' 'old']\n",
      "\n",
      "Topic 2: ['condition' 'arrived' 'price' 'described' 'new']\n",
      "\n",
      "Topic 3: ['series' 'character' 'enjoyed' 'next' 'whole']\n",
      "\n",
      "Topic 4: ['gift' 'friend' 'daughter' 'purchased' 'happy']\n",
      "\n",
      "Topic 5: ['time' 'arrived' 'described' 'favorite' 'first']\n",
      "\n"
     ]
    },
    {
     "data": {
      "text/plain": [
       "79248"
      ]
     },
     "execution_count": 163,
     "metadata": {},
     "output_type": "execute_result"
    }
   ],
   "source": [
    "nmf_6, topics_6 = nmf_test(X_tfidf, tfidf, 6)\n",
    "len(topics_6)"
   ]
  },
  {
   "cell_type": "code",
   "execution_count": 164,
   "metadata": {},
   "outputs": [
    {
     "name": "stdout",
     "output_type": "stream",
     "text": [
      "Topic 0: ['life' 'recommend' 'new' 'work' 'first']\n",
      "\n",
      "Topic 1: ['loved' 'daughter' 'kid' 'son' 'put']\n",
      "\n",
      "Topic 2: ['condition' 'arrived' 'price' 'described' 'new']\n",
      "\n",
      "Topic 3: ['series' 'character' 'next' 'enjoyed' 'whole']\n",
      "\n",
      "Topic 4: ['gift' 'friend' 'daughter' 'purchased' 'happy']\n",
      "\n",
      "Topic 5: ['time' 'arrived' 'described' 'favorite' 'first']\n",
      "\n",
      "Topic 6: ['year' 'old' 'year old' 'fun' 'daughter']\n",
      "\n"
     ]
    },
    {
     "data": {
      "text/plain": [
       "79248"
      ]
     },
     "execution_count": 164,
     "metadata": {},
     "output_type": "execute_result"
    }
   ],
   "source": [
    "nmf_7, topics_7 = nmf_test(X_tfidf, tfidf, 7)\n",
    "len(topics_7)"
   ]
  },
  {
   "cell_type": "code",
   "execution_count": 165,
   "metadata": {},
   "outputs": [
    {
     "name": "stdout",
     "output_type": "stream",
     "text": [
      "Topic 0: ['character' 'first' 'world' 'want' 'series']\n",
      "\n",
      "Topic 1: ['god' 'work' 'bible' 'word' 'may']\n",
      "\n",
      "Topic 2: ['life' 'woman' 'family' 'real' 'experience']\n",
      "\n",
      "Topic 3: ['time' 'back' 'first' 'work' 'child']\n",
      "\n",
      "Topic 4: ['year' 'old' 'year old' 'child' 'kid']\n",
      "\n"
     ]
    },
    {
     "data": {
      "text/plain": [
       "79248"
      ]
     },
     "execution_count": 165,
     "metadata": {},
     "output_type": "execute_result"
    }
   ],
   "source": [
    "nmf_cv_5, topics_cv_5 = nmf_test(X_cv, cv, 5)\n",
    "len(topics_cv_5)"
   ]
  },
  {
   "cell_type": "code",
   "execution_count": 166,
   "metadata": {},
   "outputs": [
    {
     "name": "stdout",
     "output_type": "stream",
     "text": [
      "Topic 0: ['work' 'world' 'want' 'doe' 'say']\n",
      "\n",
      "Topic 1: ['god' 'work' 'bible' 'word' 'man']\n",
      "\n",
      "Topic 2: ['life' 'woman' 'family' 'real' 'novel']\n",
      "\n",
      "Topic 3: ['time' 'first' 'back' 'take' 'still']\n",
      "\n",
      "Topic 4: ['year' 'old' 'year old' 'loved' 'child']\n",
      "\n",
      "Topic 5: ['character' 'series' 'novel' 'first' 'loved']\n",
      "\n"
     ]
    },
    {
     "data": {
      "text/plain": [
       "79248"
      ]
     },
     "execution_count": 166,
     "metadata": {},
     "output_type": "execute_result"
    }
   ],
   "source": [
    "nmf_cv_6, topics_cv_6 = nmf_test(X_cv, cv, 6)\n",
    "len(topics_cv_6)"
   ]
  },
  {
   "cell_type": "code",
   "execution_count": 167,
   "metadata": {},
   "outputs": [
    {
     "name": "stdout",
     "output_type": "stream",
     "text": [
      "Topic 0: ['want' 'work' 'world' 'think' 'go']\n",
      "\n",
      "Topic 1: ['god' 'work' 'bible' 'word' 'man']\n",
      "\n",
      "Topic 2: ['life' 'family' 'woman' 'real' 'novel']\n",
      "\n",
      "Topic 3: ['time' 'first' 'back' 'take' 'still']\n",
      "\n",
      "Topic 4: ['year' 'old' 'year old' 'loved' 'child']\n",
      "\n",
      "Topic 5: ['character' 'series' 'novel' 'first' 'loved']\n",
      "\n",
      "Topic 6: ['history' 'chapter' 'world' 'first' 'show']\n",
      "\n"
     ]
    },
    {
     "data": {
      "text/plain": [
       "79248"
      ]
     },
     "execution_count": 167,
     "metadata": {},
     "output_type": "execute_result"
    }
   ],
   "source": [
    "nmf_cv_7, topics_cv_7 = nmf_test(X_cv, cv, 7)\n",
    "len(topics_cv_7)"
   ]
  },
  {
   "cell_type": "code",
   "execution_count": null,
   "metadata": {},
   "outputs": [],
   "source": [
    "# Appears that 8 topics is ideal. for a TF-IDF max_df of 0.1"
   ]
  },
  {
   "cell_type": "code",
   "execution_count": null,
   "metadata": {},
   "outputs": [],
   "source": [
    "nmf = NMF(8, random_state=5)\n",
    "nmf_topic = nmf.fit_transform(X_tfidf)\n",
    "nmf_topics_words = pd.DataFrame(nmf.components_.round(5), columns = tfidf.get_feature_names())\n",
    "display_topics(nmf, tfidf.get_feature_names(), 10)"
   ]
  },
  {
   "cell_type": "code",
   "execution_count": null,
   "metadata": {},
   "outputs": [],
   "source": [
    "nmf = NMF(8, random_state=5)\n",
    "nmf_topic = nmf.fit_transform(X_cv)\n",
    "nmf_topics_words = pd.DataFrame(nmf.components_.round(5),columns = cv.get_feature_names())\n",
    "display_topics(nmf, cv.get_feature_names(), 10)"
   ]
  },
  {
   "cell_type": "code",
   "execution_count": null,
   "metadata": {},
   "outputs": [],
   "source": [
    "nmf = NMF(8, random_state=5)\n",
    "nmf_topic = nmf.fit_transform(X_tfidf_stemmed)\n",
    "nmf_topics_words = pd.DataFrame(nmf.components_.round(5), columns = tfidf_stemmed.get_feature_names())\n",
    "display_topics(nmf, tfidf_stemmed.get_feature_names(), 10)"
   ]
  },
  {
   "cell_type": "code",
   "execution_count": null,
   "metadata": {},
   "outputs": [],
   "source": [
    "nmf_topic"
   ]
  },
  {
   "cell_type": "code",
   "execution_count": 199,
   "metadata": {},
   "outputs": [],
   "source": [
    "topic_map = {\n",
    "    0: 'Life, work, best-sellers',\n",
    "    1: 'Children, Family',\n",
    "    2: 'Value - Book Condition, Delivery, Value',\n",
    "    3: 'Leisure-Reading',\n",
    "    4: 'Gift Purchase'\n",
    "}"
   ]
  },
  {
   "cell_type": "markdown",
   "metadata": {},
   "source": [
    "### LSA"
   ]
  },
  {
   "cell_type": "code",
   "execution_count": 168,
   "metadata": {},
   "outputs": [
    {
     "name": "stdout",
     "output_type": "stream",
     "text": [
      "\n",
      "Topic  0\n",
      "time, life, first, work, year\n",
      "\n",
      "Topic  1\n",
      "god, life, work, bible, word\n",
      "\n",
      "Topic  2\n",
      "work, history, year, chapter, god\n",
      "\n",
      "Topic  3\n",
      "series, character, work, god, new\n",
      "\n",
      "Topic  4\n",
      "year, old, year old, life, loved\n",
      "\n",
      "Topic  5\n",
      "god, series, year, old, year old\n",
      "\n",
      "Topic  6\n",
      "history, god, series, character, old\n",
      "\n",
      "Topic  7\n",
      "work, life, character, novel, year\n"
     ]
    }
   ],
   "source": [
    "lsa = TruncatedSVD(8, random_state=5)\n",
    "lsa_topics = lsa.fit_transform(X_cv)\n",
    "dtm_lsa = display_topics(lsa, cv.get_feature_names(), 5)"
   ]
  },
  {
   "cell_type": "code",
   "execution_count": 169,
   "metadata": {},
   "outputs": [
    {
     "name": "stdout",
     "output_type": "stream",
     "text": [
      "\n",
      "Topic  0\n",
      "loved, time, life, series, year\n",
      "\n",
      "Topic  1\n",
      "loved, gift, daughter, son, kid\n",
      "\n",
      "Topic  2\n",
      "condition, arrived, price, described, product\n",
      "\n",
      "Topic  3\n",
      "series, enjoyed, condition, recommend, character\n",
      "\n",
      "Topic  4\n",
      "gift, year, old, year old, fun\n",
      "\n",
      "Topic  5\n",
      "gift, series, time, arrived, described\n",
      "\n",
      "Topic  6\n",
      "old, year, year old, fun, time\n",
      "\n",
      "Topic  7\n",
      "fun, recipe, daughter, recommend, cute\n"
     ]
    }
   ],
   "source": [
    "lsa = TruncatedSVD(8, random_state=5)\n",
    "lsa_topics = lsa.fit_transform(X_tfidf)\n",
    "dtm_lsa = display_topics(lsa, cv.get_feature_names(), 5)"
   ]
  },
  {
   "cell_type": "code",
   "execution_count": 202,
   "metadata": {},
   "outputs": [],
   "source": [
    "regular_users_corpus['NMF_topic'] = topics_5.argmax(axis=1)\n",
    "regular_users_corpus['NMF_topic_name'] = regular_users_corpus.NMF_topic.map(topic_map)"
   ]
  },
  {
   "cell_type": "code",
   "execution_count": 203,
   "metadata": {},
   "outputs": [
    {
     "data": {
      "text/html": [
       "<div>\n",
       "<style scoped>\n",
       "    .dataframe tbody tr th:only-of-type {\n",
       "        vertical-align: middle;\n",
       "    }\n",
       "\n",
       "    .dataframe tbody tr th {\n",
       "        vertical-align: top;\n",
       "    }\n",
       "\n",
       "    .dataframe thead th {\n",
       "        text-align: right;\n",
       "    }\n",
       "</style>\n",
       "<table border=\"1\" class=\"dataframe\">\n",
       "  <thead>\n",
       "    <tr style=\"text-align: right;\">\n",
       "      <th></th>\n",
       "      <th>review_body</th>\n",
       "      <th>star_rating</th>\n",
       "      <th>lemmatized</th>\n",
       "      <th>NMF_topic</th>\n",
       "      <th>NMF_topic_name</th>\n",
       "    </tr>\n",
       "    <tr>\n",
       "      <th>review_id</th>\n",
       "      <th></th>\n",
       "      <th></th>\n",
       "      <th></th>\n",
       "      <th></th>\n",
       "      <th></th>\n",
       "    </tr>\n",
       "  </thead>\n",
       "  <tbody>\n",
       "    <tr>\n",
       "      <td>R3GJHPLT45ZSLV</td>\n",
       "      <td>SMALL - Great for back pack - very comprehensive</td>\n",
       "      <td>5</td>\n",
       "      <td>SMALL - Great for back pack - very comprehensive</td>\n",
       "      <td>0</td>\n",
       "      <td>Life, work, best-sellers</td>\n",
       "    </tr>\n",
       "    <tr>\n",
       "      <td>R2C017D3ADTBII</td>\n",
       "      <td>Very cool pictures  perfect for the fashionist...</td>\n",
       "      <td>5</td>\n",
       "      <td>Very cool picture  perfect for the fashionista...</td>\n",
       "      <td>0</td>\n",
       "      <td>Life, work, best-sellers</td>\n",
       "    </tr>\n",
       "    <tr>\n",
       "      <td>R1L2667KTPKDWN</td>\n",
       "      <td>They  are beautiful and sexy pictures. The guy...</td>\n",
       "      <td>5</td>\n",
       "      <td>They  are beautiful and sexy pictures. The guy...</td>\n",
       "      <td>0</td>\n",
       "      <td>Life, work, best-sellers</td>\n",
       "    </tr>\n",
       "    <tr>\n",
       "      <td>RYDSPFN841JWR</td>\n",
       "      <td>Cute book to go with a great activity I do wit...</td>\n",
       "      <td>5</td>\n",
       "      <td>Cute book to go with a great activity I do wit...</td>\n",
       "      <td>0</td>\n",
       "      <td>Life, work, best-sellers</td>\n",
       "    </tr>\n",
       "    <tr>\n",
       "      <td>R2LHNFS21BJQ2N</td>\n",
       "      <td>One of the best guide books in print for survi...</td>\n",
       "      <td>5</td>\n",
       "      <td>One of the best guide book in print for surviv...</td>\n",
       "      <td>0</td>\n",
       "      <td>Life, work, best-sellers</td>\n",
       "    </tr>\n",
       "  </tbody>\n",
       "</table>\n",
       "</div>"
      ],
      "text/plain": [
       "                                                      review_body  \\\n",
       "review_id                                                           \n",
       "R3GJHPLT45ZSLV   SMALL - Great for back pack - very comprehensive   \n",
       "R2C017D3ADTBII  Very cool pictures  perfect for the fashionist...   \n",
       "R1L2667KTPKDWN  They  are beautiful and sexy pictures. The guy...   \n",
       "RYDSPFN841JWR   Cute book to go with a great activity I do wit...   \n",
       "R2LHNFS21BJQ2N  One of the best guide books in print for survi...   \n",
       "\n",
       "                star_rating  \\\n",
       "review_id                     \n",
       "R3GJHPLT45ZSLV            5   \n",
       "R2C017D3ADTBII            5   \n",
       "R1L2667KTPKDWN            5   \n",
       "RYDSPFN841JWR             5   \n",
       "R2LHNFS21BJQ2N            5   \n",
       "\n",
       "                                                       lemmatized  NMF_topic  \\\n",
       "review_id                                                                      \n",
       "R3GJHPLT45ZSLV   SMALL - Great for back pack - very comprehensive          0   \n",
       "R2C017D3ADTBII  Very cool picture  perfect for the fashionista...          0   \n",
       "R1L2667KTPKDWN  They  are beautiful and sexy pictures. The guy...          0   \n",
       "RYDSPFN841JWR   Cute book to go with a great activity I do wit...          0   \n",
       "R2LHNFS21BJQ2N  One of the best guide book in print for surviv...          0   \n",
       "\n",
       "                          NMF_topic_name  \n",
       "review_id                                 \n",
       "R3GJHPLT45ZSLV  Life, work, best-sellers  \n",
       "R2C017D3ADTBII  Life, work, best-sellers  \n",
       "R1L2667KTPKDWN  Life, work, best-sellers  \n",
       "RYDSPFN841JWR   Life, work, best-sellers  \n",
       "R2LHNFS21BJQ2N  Life, work, best-sellers  "
      ]
     },
     "execution_count": 203,
     "metadata": {},
     "output_type": "execute_result"
    }
   ],
   "source": [
    "regular_users_corpus.head()"
   ]
  },
  {
   "cell_type": "code",
   "execution_count": 204,
   "metadata": {},
   "outputs": [
    {
     "data": {
      "image/png": "[encoded data removed]",
      "text/plain": [
       "<Figure size 432x288 with 1 Axes>"
      ]
     },
     "metadata": {},
     "output_type": "display_data"
    }
   ],
   "source": [
    "plot_dist(regular_users_corpus)\n"
   ]
  },
  {
   "cell_type": "code",
   "execution_count": 220,
   "metadata": {
    "scrolled": true
   },
   "outputs": [
    {
     "data": {
      "image/png": "[encoded data removed]",
      "text/plain": [
       "<Figure size 1152x864 with 1 Axes>"
      ]
     },
     "metadata": {},
     "output_type": "display_data"
    }
   ],
   "source": [
    "fig, ax = plt.subplots(figsize=(16, 12))\n",
    "topic_stars_grouped = regular_users_corpus.groupby('NMF_topic_name').star_rating.mean().sort_values()\n",
    "# corpus.groupby('topic_name').claps.mean().sort_values().plot(kind='barh')\n",
    "topic_stars_grouped.plot(kind='barh')\n",
    "plt.xlabel('Mean Rating', size=18)\n",
    "plt.ylabel('', size=18)\n",
    "plt.title('Star Rating per Topic')\n",
    "plt.tight_layout()\n",
    "ax.tick_params(axis='both', which='major', labelsize=16)\n",
    "ax.tick_params(axis='both', which='minor', labelsize=16)\n",
    "# plt.savefig('median_claps_topic.svg');"
   ]
  },
  {
   "cell_type": "code",
   "execution_count": 221,
   "metadata": {},
   "outputs": [
    {
     "data": {
      "image/png": "[encoded data removed]",
      "text/plain": [
       "<Figure size 1152x864 with 1 Axes>"
      ]
     },
     "metadata": {},
     "output_type": "display_data"
    }
   ],
   "source": [
    "fig, ax = plt.subplots(figsize=(16, 12))\n",
    "regular_users_corpus.groupby('NMF_topic_name').NMF_topic.count()[topic_stars_grouped.index].plot(kind='barh')\n",
    "plt.xlabel('Total_Reviews')\n",
    "plt.ylabel('')\n",
    "plt.title('Topic Sizes')\n",
    "ax.tick_params(axis='both', which='major', labelsize=16)\n",
    "ax.tick_params(axis='both', which='minor', labelsize=16)\n",
    "plt.tight_layout()\n",
    "# plt.savefig('topic_sizes.svg');"
   ]
  },
  {
   "cell_type": "code",
   "execution_count": 184,
   "metadata": {},
   "outputs": [
    {
     "data": {
      "image/png": "[encoded data removed]",
      "text/plain": [
       "<Figure size 1008x864 with 1 Axes>"
      ]
     },
     "metadata": {},
     "output_type": "display_data"
    }
   ],
   "source": [
    "plt.figure(figsize=(14,12))\n",
    "data = regular_users_corpus.groupby('NMF_topic_name').agg({'star_rating':'mean', 'NMF_topic':'count'}).sort_index()\n",
    "data['name'] = data.index\n",
    "sns.scatterplot(x='star_rating', y='NMF_topic', data=data, s=80)\n",
    "\n",
    "def label_point(x, y, val, ax):\n",
    "    a = pd.concat({'x': x, 'y': y, 'val': val}, axis=1)\n",
    "    for i, point in a.iterrows():\n",
    "        ax.text(point['x'], point['y'], str(point['val']), size=18)\n",
    "\n",
    "label_point(data.star_rating, data.NMF_topic, data.name, plt.gca())\n",
    "\n",
    "plt.xlabel('Mean Rating', size=18)\n",
    "plt.ylabel('Total Reviews', size=18)\n",
    "plt.tight_layout()\n",
    "# plt.savefig('article_clap_scatter.svg');\n",
    "\n",
    "\n"
   ]
  },
  {
   "cell_type": "markdown",
   "metadata": {},
   "source": [
    "## Visualization"
   ]
  },
  {
   "cell_type": "code",
   "execution_count": 185,
   "metadata": {},
   "outputs": [
    {
     "ename": "NameError",
     "evalue": "name 'topics_8' is not defined",
     "output_type": "error",
     "traceback": [
      "\u001b[0;31m---------------------------------------------------------------------------\u001b[0m",
      "\u001b[0;31mNameError\u001b[0m                                 Traceback (most recent call last)",
      "\u001b[0;32m<ipython-input-185-bdcf5f4f0b6e>\u001b[0m in \u001b[0;36m<module>\u001b[0;34m\u001b[0m\n\u001b[0;32m----> 1\u001b[0;31m \u001b[0mnmf_sc\u001b[0m \u001b[0;34m=\u001b[0m \u001b[0mStandardScaler\u001b[0m\u001b[0;34m(\u001b[0m\u001b[0;34m)\u001b[0m\u001b[0;34m.\u001b[0m\u001b[0mfit_transform\u001b[0m\u001b[0;34m(\u001b[0m\u001b[0mtopics_8\u001b[0m\u001b[0;34m)\u001b[0m\u001b[0;34m\u001b[0m\u001b[0;34m\u001b[0m\u001b[0m\n\u001b[0m\u001b[1;32m      2\u001b[0m \u001b[0;32mfrom\u001b[0m \u001b[0msklearn\u001b[0m\u001b[0;34m.\u001b[0m\u001b[0mdecomposition\u001b[0m \u001b[0;32mimport\u001b[0m \u001b[0mPCA\u001b[0m\u001b[0;34m\u001b[0m\u001b[0;34m\u001b[0m\u001b[0m\n\u001b[1;32m      3\u001b[0m \u001b[0mpca\u001b[0m \u001b[0;34m=\u001b[0m \u001b[0mPCA\u001b[0m\u001b[0;34m(\u001b[0m\u001b[0mn_components\u001b[0m\u001b[0;34m=\u001b[0m\u001b[0;36m2\u001b[0m\u001b[0;34m,\u001b[0m \u001b[0mrandom_state\u001b[0m\u001b[0;34m=\u001b[0m\u001b[0;36m5\u001b[0m\u001b[0;34m)\u001b[0m\u001b[0;34m\u001b[0m\u001b[0;34m\u001b[0m\u001b[0m\n\u001b[1;32m      4\u001b[0m \u001b[0mnmf_pca\u001b[0m \u001b[0;34m=\u001b[0m \u001b[0mpca\u001b[0m\u001b[0;34m.\u001b[0m\u001b[0mfit_transform\u001b[0m\u001b[0;34m(\u001b[0m\u001b[0mnmf_sc\u001b[0m\u001b[0;34m)\u001b[0m\u001b[0;34m\u001b[0m\u001b[0;34m\u001b[0m\u001b[0m\n",
      "\u001b[0;31mNameError\u001b[0m: name 'topics_8' is not defined"
     ]
    }
   ],
   "source": [
    "nmf_sc = StandardScaler().fit_transform(topics_8)\n",
    "from sklearn.decomposition import PCA\n",
    "pca = PCA(n_components=2, random_state=5)\n",
    "nmf_pca = pca.fit_transform(nmf_sc)"
   ]
  },
  {
   "cell_type": "code",
   "execution_count": 186,
   "metadata": {
    "scrolled": true
   },
   "outputs": [
    {
     "ename": "NameError",
     "evalue": "name 'nmf_pca' is not defined",
     "output_type": "error",
     "traceback": [
      "\u001b[0;31m---------------------------------------------------------------------------\u001b[0m",
      "\u001b[0;31mNameError\u001b[0m                                 Traceback (most recent call last)",
      "\u001b[0;32m<ipython-input-186-841eadc55d73>\u001b[0m in \u001b[0;36m<module>\u001b[0;34m\u001b[0m\n\u001b[1;32m      1\u001b[0m \u001b[0mplt\u001b[0m\u001b[0;34m.\u001b[0m\u001b[0mfigure\u001b[0m\u001b[0;34m(\u001b[0m\u001b[0mfigsize\u001b[0m\u001b[0;34m=\u001b[0m\u001b[0;34m(\u001b[0m\u001b[0;36m20\u001b[0m\u001b[0;34m,\u001b[0m\u001b[0;36m16\u001b[0m\u001b[0;34m)\u001b[0m\u001b[0;34m)\u001b[0m\u001b[0;34m\u001b[0m\u001b[0;34m\u001b[0m\u001b[0m\n\u001b[0;32m----> 2\u001b[0;31m \u001b[0mplt\u001b[0m\u001b[0;34m.\u001b[0m\u001b[0mscatter\u001b[0m\u001b[0;34m(\u001b[0m\u001b[0mnmf_pca\u001b[0m\u001b[0;34m[\u001b[0m\u001b[0;34m:\u001b[0m\u001b[0;34m,\u001b[0m\u001b[0;36m0\u001b[0m\u001b[0;34m]\u001b[0m\u001b[0;34m,\u001b[0m \u001b[0mnmf_pca\u001b[0m\u001b[0;34m[\u001b[0m\u001b[0;34m:\u001b[0m\u001b[0;34m,\u001b[0m\u001b[0;36m1\u001b[0m\u001b[0;34m]\u001b[0m\u001b[0;34m,\u001b[0m \u001b[0mc\u001b[0m\u001b[0;34m=\u001b[0m\u001b[0mnmf_sc\u001b[0m\u001b[0;34m.\u001b[0m\u001b[0margmax\u001b[0m\u001b[0;34m(\u001b[0m\u001b[0maxis\u001b[0m\u001b[0;34m=\u001b[0m\u001b[0;36m1\u001b[0m\u001b[0;34m)\u001b[0m\u001b[0;34m,\u001b[0m \u001b[0mcmap\u001b[0m\u001b[0;34m=\u001b[0m\u001b[0;34m'jet'\u001b[0m\u001b[0;34m,\u001b[0m \u001b[0malpha\u001b[0m\u001b[0;34m=\u001b[0m\u001b[0;36m0.3\u001b[0m\u001b[0;34m)\u001b[0m\u001b[0;34m\u001b[0m\u001b[0;34m\u001b[0m\u001b[0m\n\u001b[0m\u001b[1;32m      3\u001b[0m \u001b[0mplt\u001b[0m\u001b[0;34m.\u001b[0m\u001b[0mcolorbar\u001b[0m\u001b[0;34m(\u001b[0m\u001b[0;34m)\u001b[0m\u001b[0;34m;\u001b[0m\u001b[0;34m\u001b[0m\u001b[0;34m\u001b[0m\u001b[0m\n",
      "\u001b[0;31mNameError\u001b[0m: name 'nmf_pca' is not defined"
     ]
    },
    {
     "data": {
      "text/plain": [
       "<Figure size 1440x1152 with 0 Axes>"
      ]
     },
     "metadata": {},
     "output_type": "display_data"
    }
   ],
   "source": [
    "plt.figure(figsize=(20,16))\n",
    "plt.scatter(nmf_pca[:,0], nmf_pca[:,1], c=nmf_sc.argmax(axis=1), cmap='jet', alpha=0.3)\n",
    "plt.colorbar();"
   ]
  },
  {
   "cell_type": "code",
   "execution_count": 187,
   "metadata": {},
   "outputs": [
    {
     "ename": "NameError",
     "evalue": "name 'nmf_sc' is not defined",
     "output_type": "error",
     "traceback": [
      "\u001b[0;31m---------------------------------------------------------------------------\u001b[0m",
      "\u001b[0;31mNameError\u001b[0m                                 Traceback (most recent call last)",
      "\u001b[0;32m<ipython-input-187-9d396e4f94ac>\u001b[0m in \u001b[0;36m<module>\u001b[0;34m\u001b[0m\n\u001b[1;32m      2\u001b[0m \u001b[0;34m\u001b[0m\u001b[0m\n\u001b[1;32m      3\u001b[0m \u001b[0mmodel\u001b[0m \u001b[0;34m=\u001b[0m \u001b[0mTSNE\u001b[0m\u001b[0;34m(\u001b[0m\u001b[0mn_components\u001b[0m\u001b[0;34m=\u001b[0m\u001b[0;36m2\u001b[0m\u001b[0;34m,\u001b[0m \u001b[0mrandom_state\u001b[0m\u001b[0;34m=\u001b[0m\u001b[0;36m0\u001b[0m\u001b[0;34m,\u001b[0m \u001b[0mverbose\u001b[0m\u001b[0;34m=\u001b[0m\u001b[0;36m0\u001b[0m\u001b[0;34m)\u001b[0m\u001b[0;34m\u001b[0m\u001b[0;34m\u001b[0m\u001b[0m\n\u001b[0;32m----> 4\u001b[0;31m \u001b[0mdata\u001b[0m \u001b[0;34m=\u001b[0m \u001b[0mmodel\u001b[0m\u001b[0;34m.\u001b[0m\u001b[0mfit_transform\u001b[0m\u001b[0;34m(\u001b[0m\u001b[0mnmf_sc\u001b[0m\u001b[0;34m)\u001b[0m\u001b[0;34m\u001b[0m\u001b[0;34m\u001b[0m\u001b[0m\n\u001b[0m",
      "\u001b[0;31mNameError\u001b[0m: name 'nmf_sc' is not defined"
     ]
    }
   ],
   "source": [
    "from sklearn.manifold import TSNE\n",
    "\n",
    "model = TSNE(n_components=2, random_state=0, verbose=0)\n",
    "data = model.fit_transform(nmf_sc)"
   ]
  },
  {
   "cell_type": "code",
   "execution_count": 188,
   "metadata": {},
   "outputs": [
    {
     "ename": "TypeError",
     "evalue": "'(slice(None, None, None), 0)' is an invalid key",
     "output_type": "error",
     "traceback": [
      "\u001b[0;31m---------------------------------------------------------------------------\u001b[0m",
      "\u001b[0;31mTypeError\u001b[0m                                 Traceback (most recent call last)",
      "\u001b[0;32m<ipython-input-188-5dbdbc184abf>\u001b[0m in \u001b[0;36m<module>\u001b[0;34m\u001b[0m\n\u001b[1;32m      1\u001b[0m \u001b[0mplt\u001b[0m\u001b[0;34m.\u001b[0m\u001b[0mfigure\u001b[0m\u001b[0;34m(\u001b[0m\u001b[0mfigsize\u001b[0m\u001b[0;34m=\u001b[0m\u001b[0;34m(\u001b[0m\u001b[0;36m15\u001b[0m\u001b[0;34m,\u001b[0m\u001b[0;36m12\u001b[0m\u001b[0;34m)\u001b[0m\u001b[0;34m)\u001b[0m\u001b[0;34m\u001b[0m\u001b[0;34m\u001b[0m\u001b[0m\n\u001b[0;32m----> 2\u001b[0;31m \u001b[0mplt\u001b[0m\u001b[0;34m.\u001b[0m\u001b[0mscatter\u001b[0m\u001b[0;34m(\u001b[0m\u001b[0mdata\u001b[0m\u001b[0;34m[\u001b[0m\u001b[0;34m:\u001b[0m\u001b[0;34m,\u001b[0m\u001b[0;36m0\u001b[0m\u001b[0;34m]\u001b[0m\u001b[0;34m,\u001b[0m \u001b[0mdata\u001b[0m\u001b[0;34m[\u001b[0m\u001b[0;34m:\u001b[0m\u001b[0;34m,\u001b[0m\u001b[0;36m1\u001b[0m\u001b[0;34m]\u001b[0m\u001b[0;34m,\u001b[0m \u001b[0mc\u001b[0m\u001b[0;34m=\u001b[0m\u001b[0mregular_users_corpus\u001b[0m\u001b[0;34m.\u001b[0m\u001b[0mtopic\u001b[0m\u001b[0;34m,\u001b[0m\u001b[0mcmap\u001b[0m\u001b[0;34m=\u001b[0m\u001b[0;34m'jet'\u001b[0m\u001b[0;34m,\u001b[0m \u001b[0malpha\u001b[0m\u001b[0;34m=\u001b[0m\u001b[0;36m.5\u001b[0m\u001b[0;34m)\u001b[0m\u001b[0;34m;\u001b[0m\u001b[0;34m\u001b[0m\u001b[0;34m\u001b[0m\u001b[0m\n\u001b[0m",
      "\u001b[0;32m~/opt/miniconda3/lib/python3.7/site-packages/pandas/core/frame.py\u001b[0m in \u001b[0;36m__getitem__\u001b[0;34m(self, key)\u001b[0m\n\u001b[1;32m   2978\u001b[0m             \u001b[0;32mif\u001b[0m \u001b[0mself\u001b[0m\u001b[0;34m.\u001b[0m\u001b[0mcolumns\u001b[0m\u001b[0;34m.\u001b[0m\u001b[0mnlevels\u001b[0m \u001b[0;34m>\u001b[0m \u001b[0;36m1\u001b[0m\u001b[0;34m:\u001b[0m\u001b[0;34m\u001b[0m\u001b[0;34m\u001b[0m\u001b[0m\n\u001b[1;32m   2979\u001b[0m                 \u001b[0;32mreturn\u001b[0m \u001b[0mself\u001b[0m\u001b[0;34m.\u001b[0m\u001b[0m_getitem_multilevel\u001b[0m\u001b[0;34m(\u001b[0m\u001b[0mkey\u001b[0m\u001b[0;34m)\u001b[0m\u001b[0;34m\u001b[0m\u001b[0;34m\u001b[0m\u001b[0m\n\u001b[0;32m-> 2980\u001b[0;31m             \u001b[0mindexer\u001b[0m \u001b[0;34m=\u001b[0m \u001b[0mself\u001b[0m\u001b[0;34m.\u001b[0m\u001b[0mcolumns\u001b[0m\u001b[0;34m.\u001b[0m\u001b[0mget_loc\u001b[0m\u001b[0;34m(\u001b[0m\u001b[0mkey\u001b[0m\u001b[0;34m)\u001b[0m\u001b[0;34m\u001b[0m\u001b[0;34m\u001b[0m\u001b[0m\n\u001b[0m\u001b[1;32m   2981\u001b[0m             \u001b[0;32mif\u001b[0m \u001b[0mis_integer\u001b[0m\u001b[0;34m(\u001b[0m\u001b[0mindexer\u001b[0m\u001b[0;34m)\u001b[0m\u001b[0;34m:\u001b[0m\u001b[0;34m\u001b[0m\u001b[0;34m\u001b[0m\u001b[0m\n\u001b[1;32m   2982\u001b[0m                 \u001b[0mindexer\u001b[0m \u001b[0;34m=\u001b[0m \u001b[0;34m[\u001b[0m\u001b[0mindexer\u001b[0m\u001b[0;34m]\u001b[0m\u001b[0;34m\u001b[0m\u001b[0;34m\u001b[0m\u001b[0m\n",
      "\u001b[0;32m~/opt/miniconda3/lib/python3.7/site-packages/pandas/core/indexes/base.py\u001b[0m in \u001b[0;36mget_loc\u001b[0;34m(self, key, method, tolerance)\u001b[0m\n\u001b[1;32m   2895\u001b[0m                 )\n\u001b[1;32m   2896\u001b[0m             \u001b[0;32mtry\u001b[0m\u001b[0;34m:\u001b[0m\u001b[0;34m\u001b[0m\u001b[0;34m\u001b[0m\u001b[0m\n\u001b[0;32m-> 2897\u001b[0;31m                 \u001b[0;32mreturn\u001b[0m \u001b[0mself\u001b[0m\u001b[0;34m.\u001b[0m\u001b[0m_engine\u001b[0m\u001b[0;34m.\u001b[0m\u001b[0mget_loc\u001b[0m\u001b[0;34m(\u001b[0m\u001b[0mkey\u001b[0m\u001b[0;34m)\u001b[0m\u001b[0;34m\u001b[0m\u001b[0;34m\u001b[0m\u001b[0m\n\u001b[0m\u001b[1;32m   2898\u001b[0m             \u001b[0;32mexcept\u001b[0m \u001b[0mKeyError\u001b[0m\u001b[0;34m:\u001b[0m\u001b[0;34m\u001b[0m\u001b[0;34m\u001b[0m\u001b[0m\n\u001b[1;32m   2899\u001b[0m                 \u001b[0;32mreturn\u001b[0m \u001b[0mself\u001b[0m\u001b[0;34m.\u001b[0m\u001b[0m_engine\u001b[0m\u001b[0;34m.\u001b[0m\u001b[0mget_loc\u001b[0m\u001b[0;34m(\u001b[0m\u001b[0mself\u001b[0m\u001b[0;34m.\u001b[0m\u001b[0m_maybe_cast_indexer\u001b[0m\u001b[0;34m(\u001b[0m\u001b[0mkey\u001b[0m\u001b[0;34m)\u001b[0m\u001b[0;34m)\u001b[0m\u001b[0;34m\u001b[0m\u001b[0;34m\u001b[0m\u001b[0m\n",
      "\u001b[0;32mpandas/_libs/index.pyx\u001b[0m in \u001b[0;36mpandas._libs.index.IndexEngine.get_loc\u001b[0;34m()\u001b[0m\n",
      "\u001b[0;32mpandas/_libs/index.pyx\u001b[0m in \u001b[0;36mpandas._libs.index.IndexEngine.get_loc\u001b[0;34m()\u001b[0m\n",
      "\u001b[0;31mTypeError\u001b[0m: '(slice(None, None, None), 0)' is an invalid key"
     ]
    },
    {
     "data": {
      "text/plain": [
       "<Figure size 1080x864 with 0 Axes>"
      ]
     },
     "metadata": {},
     "output_type": "display_data"
    }
   ],
   "source": [
    "plt.figure(figsize=(15,12))\n",
    "plt.scatter(data[:,0], data[:,1], c=regular_users_corpus.topic,cmap='jet', alpha=.5);"
   ]
  },
  {
   "cell_type": "markdown",
   "metadata": {},
   "source": [
    "## LDA"
   ]
  },
  {
   "cell_type": "code",
   "execution_count": 222,
   "metadata": {},
   "outputs": [],
   "source": [
    "from gensim import corpora, models, similarities, matutils\n"
   ]
  },
  {
   "cell_type": "code",
   "execution_count": 223,
   "metadata": {},
   "outputs": [],
   "source": [
    "doc_word_cv = cv.transform(regular_users_corpus.review_body).transpose()\n",
    "doc_word_tfidf = tfidf.transform(regular_users_corpus.review_body).transpose()"
   ]
  },
  {
   "cell_type": "code",
   "execution_count": 224,
   "metadata": {},
   "outputs": [],
   "source": [
    "corpus_cv = matutils.Sparse2Corpus(doc_word_cv)\n",
    "corpus_tfidf = matutils.Sparse2Corpus(doc_word_tfidf)"
   ]
  },
  {
   "cell_type": "code",
   "execution_count": 225,
   "metadata": {},
   "outputs": [],
   "source": [
    "id2word_cv = dict((v, k) for k, v in cv.vocabulary_.items())\n",
    "id2word_tfidf = dict((v, k) for k, v in tfidf.vocabulary_.items())"
   ]
  },
  {
   "cell_type": "code",
   "execution_count": 226,
   "metadata": {},
   "outputs": [
    {
     "data": {
      "text/plain": [
       "178"
      ]
     },
     "execution_count": 226,
     "metadata": {},
     "output_type": "execute_result"
    }
   ],
   "source": [
    "len(id2word_cv)"
   ]
  },
  {
   "cell_type": "code",
   "execution_count": 227,
   "metadata": {},
   "outputs": [],
   "source": [
    "lda_cv = models.LdaModel(corpus=corpus_cv, num_topics=5, id2word=id2word_cv, passes=5, random_state=5)\n",
    "lda_tfidf = models.LdaModel(corpus=corpus_tfidf, num_topics=5, id2word=id2word_tfidf, passes=5, random_state=5)"
   ]
  },
  {
   "cell_type": "code",
   "execution_count": 228,
   "metadata": {},
   "outputs": [
    {
     "data": {
      "text/plain": [
       "[(0,\n",
       "  '0.064*\"life\" + 0.036*\"work\" + 0.028*\"need\" + 0.028*\"world\" + 0.028*\"writing\" + 0.028*\"family\" + 0.027*\"understand\" + 0.026*\"gift\" + 0.024*\"want\" + 0.023*\"god\"'),\n",
       " (1,\n",
       "  '0.094*\"recommend\" + 0.088*\"enjoyed\" + 0.066*\"daughter\" + 0.061*\"condition\" + 0.051*\"happy\" + 0.042*\"everyone\" + 0.039*\"arrived\" + 0.039*\"product\" + 0.038*\"color\" + 0.038*\"purchased\"'),\n",
       " (2,\n",
       "  '0.046*\"series\" + 0.031*\"history\" + 0.027*\"looking\" + 0.023*\"look\" + 0.022*\"worth\" + 0.021*\"put\" + 0.021*\"end\" + 0.020*\"bit\" + 0.019*\"though\" + 0.019*\"first\"'),\n",
       " (3,\n",
       "  '0.095*\"time\" + 0.093*\"loved\" + 0.063*\"fun\" + 0.055*\"first\" + 0.048*\"different\" + 0.041*\"always\" + 0.040*\"favorite\" + 0.036*\"still\" + 0.032*\"informative\" + 0.031*\"set\"'),\n",
       " (4,\n",
       "  '0.079*\"new\" + 0.075*\"old\" + 0.060*\"year\" + 0.050*\"used\" + 0.050*\"day\" + 0.035*\"year old\" + 0.034*\"child\" + 0.033*\"young\" + 0.032*\"back\" + 0.030*\"bible\"')]"
      ]
     },
     "execution_count": 228,
     "metadata": {},
     "output_type": "execute_result"
    }
   ],
   "source": [
    "lda_cv.print_topics()"
   ]
  },
  {
   "cell_type": "code",
   "execution_count": 229,
   "metadata": {
    "scrolled": true
   },
   "outputs": [
    {
     "data": {
      "text/plain": [
       "[(0,\n",
       "  '0.074*\"gift\" + 0.056*\"understand\" + 0.050*\"favorite\" + 0.049*\"writing\" + 0.039*\"everything\" + 0.039*\"learn\" + 0.037*\"useful\" + 0.036*\"recommended\" + 0.036*\"guide\" + 0.033*\"exactly\"'),\n",
       " (1,\n",
       "  '0.085*\"enjoyed\" + 0.082*\"condition\" + 0.073*\"old\" + 0.066*\"daughter\" + 0.052*\"year\" + 0.051*\"happy\" + 0.049*\"arrived\" + 0.045*\"described\" + 0.042*\"school\" + 0.037*\"fantastic\"'),\n",
       " (2,\n",
       "  '0.086*\"series\" + 0.078*\"fun\" + 0.058*\"recommend\" + 0.057*\"history\" + 0.051*\"looking\" + 0.045*\"worth\" + 0.041*\"price\" + 0.040*\"product\" + 0.036*\"cute\" + 0.034*\"ever\"'),\n",
       " (3,\n",
       "  '0.147*\"loved\" + 0.079*\"still\" + 0.072*\"informative\" + 0.063*\"son\" + 0.051*\"always\" + 0.046*\"time\" + 0.044*\"used\" + 0.043*\"wish\" + 0.043*\"reference\" + 0.034*\"clear\"'),\n",
       " (4,\n",
       "  '0.033*\"life\" + 0.029*\"new\" + 0.020*\"think\" + 0.020*\"find\" + 0.019*\"want\" + 0.019*\"back\" + 0.019*\"another\" + 0.018*\"never\" + 0.018*\"world\" + 0.016*\"time\"')]"
      ]
     },
     "execution_count": 229,
     "metadata": {},
     "output_type": "execute_result"
    }
   ],
   "source": [
    "lda_tfidf.print_topics()"
   ]
  },
  {
   "cell_type": "code",
   "execution_count": 234,
   "metadata": {},
   "outputs": [
    {
     "data": {
      "text/plain": [
       "<gensim.interfaces.TransformedCorpus at 0x199496b10>"
      ]
     },
     "execution_count": 234,
     "metadata": {},
     "output_type": "execute_result"
    }
   ],
   "source": [
    "lda_corpus_cv = lda_cv[corpus_cv]\n",
    "lda_corpus_cv"
   ]
  },
  {
   "cell_type": "code",
   "execution_count": 236,
   "metadata": {},
   "outputs": [],
   "source": [
    "lda_docs_cv = [doc for doc in lda_corpus_cv]"
   ]
  },
  {
   "cell_type": "code",
   "execution_count": 242,
   "metadata": {},
   "outputs": [
    {
     "data": {
      "text/plain": [
       "79248"
      ]
     },
     "execution_count": 242,
     "metadata": {},
     "output_type": "execute_result"
    }
   ],
   "source": [
    "len(lda_docs_cv)"
   ]
  },
  {
   "cell_type": "code",
   "execution_count": null,
   "metadata": {},
   "outputs": [],
   "source": [
    "# topic_map = {\n",
    "#     0: 'Educational - Study Material',\n",
    "#     1: 'Self-Help / Recommended',\n",
    "#     2: 'Children Books',\n",
    "#     3: 'Series Books',\n",
    "#     4: 'Illustrative Books',\n",
    "#     5: 'Book Condition',\n",
    "#     6: 'for Gifting',\n",
    "#     7: 'Delivery time'\n",
    "# }"
   ]
  },
  {
   "cell_type": "code",
   "execution_count": 245,
   "metadata": {},
   "outputs": [
    {
     "ename": "AttributeError",
     "evalue": "'list' object has no attribute 'max'",
     "output_type": "error",
     "traceback": [
      "\u001b[0;31m---------------------------------------------------------------------------\u001b[0m",
      "\u001b[0;31mAttributeError\u001b[0m                            Traceback (most recent call last)",
      "\u001b[0;32m<ipython-input-245-4f43c8c68c32>\u001b[0m in \u001b[0;36m<module>\u001b[0;34m\u001b[0m\n\u001b[0;32m----> 1\u001b[0;31m \u001b[0mregular_users_corpus\u001b[0m\u001b[0;34m[\u001b[0m\u001b[0;34m'LDA_topic'\u001b[0m\u001b[0;34m]\u001b[0m \u001b[0;34m=\u001b[0m \u001b[0mlda_docs_cv\u001b[0m\u001b[0;34m.\u001b[0m\u001b[0mmax\u001b[0m\u001b[0;34m(\u001b[0m\u001b[0maxis\u001b[0m\u001b[0;34m=\u001b[0m\u001b[0;36m1\u001b[0m\u001b[0;34m)\u001b[0m\u001b[0;34m\u001b[0m\u001b[0;34m\u001b[0m\u001b[0m\n\u001b[0m\u001b[1;32m      2\u001b[0m \u001b[0mregular_users_corpus\u001b[0m\u001b[0;34m[\u001b[0m\u001b[0;34m'LDA_topic_name'\u001b[0m\u001b[0;34m]\u001b[0m \u001b[0;34m=\u001b[0m \u001b[0mregular_users_corpus\u001b[0m\u001b[0;34m.\u001b[0m\u001b[0mLDA_topic\u001b[0m\u001b[0;34m.\u001b[0m\u001b[0mmap\u001b[0m\u001b[0;34m(\u001b[0m\u001b[0mtopic_map\u001b[0m\u001b[0;34m)\u001b[0m\u001b[0;34m\u001b[0m\u001b[0;34m\u001b[0m\u001b[0m\n",
      "\u001b[0;31mAttributeError\u001b[0m: 'list' object has no attribute 'max'"
     ]
    }
   ],
   "source": [
    "regular_users_corpus['LDA_topic'] = lda_docs_cv.argmax(axis=1)\n",
    "regular_users_corpus['LDA_topic_name'] = regular_users_corpus.LDA_topic.map(topic_map)"
   ]
  },
  {
   "cell_type": "code",
   "execution_count": null,
   "metadata": {},
   "outputs": [],
   "source": []
  }
 ],
 "metadata": {
  "kernelspec": {
   "display_name": "Python 3",
   "language": "python",
   "name": "python3"
  },
  "language_info": {
   "codemirror_mode": {
    "name": "ipython",
    "version": 3
   },
   "file_extension": ".py",
   "mimetype": "text/x-python",
   "name": "python",
   "nbconvert_exporter": "python",
   "pygments_lexer": "ipython3",
   "version": "3.7.6"
  },
  "toc": {
   "base_numbering": 1,
   "nav_menu": {},
   "number_sections": true,
   "sideBar": true,
   "skip_h1_title": false,
   "title_cell": "Table of Contents",
   "title_sidebar": "Contents",
   "toc_cell": false,
   "toc_position": {},
   "toc_section_display": true,
   "toc_window_display": false
  }
 },
 "nbformat": 4,
 "nbformat_minor": 4
}
