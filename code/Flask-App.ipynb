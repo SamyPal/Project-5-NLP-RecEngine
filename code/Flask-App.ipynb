{
 "cells": [
  {
   "cell_type": "code",
   "execution_count": null,
   "metadata": {},
   "outputs": [],
   "source": [
    "import flask\n",
    "import difflib\n",
    "import pandas as pd\n",
    "from sklearn.feature_extraction.text import CountVectorizer\n",
    "from sklearn.metrics.pairwise import cosine_similarity\n",
    "\n",
    "app = flask.Flask(__name__, template_folder='templates')\n",
    "\n",
    "df2 = pd.read_csv('./model/tmdb.csv')\n",
    "\n",
    "count = CountVectorizer(stop_words='english')\n",
    "count_matrix = count.fit_transform(df2['soup'])\n",
    "\n",
    "cosine_sim2 = cosine_similarity(count_matrix, count_matrix)\n",
    "\n",
    "df2 = df2.reset_index()\n",
    "indices = pd.Series(df2.index, index=df2['title'])\n",
    "all_titles = [df2['title'][i] for i in range(len(df2['title']))]\n",
    "\n",
    "def get_recommendations(title):\n",
    "    cosine_sim = cosine_similarity(count_matrix, count_matrix)\n",
    "    idx = indices[title]\n",
    "    sim_scores = list(enumerate(cosine_sim[idx]))\n",
    "    sim_scores = sorted(sim_scores, key=lambda x: x[1], reverse=True)\n",
    "    sim_scores = sim_scores[1:11]\n",
    "    movie_indices = [i[0] for i in sim_scores]\n",
    "    tit = df2['title'].iloc[movie_indices]\n",
    "    dat = df2['release_date'].iloc[movie_indices]\n",
    "    return_df = pd.DataFrame(columns=['Title','Year'])\n",
    "    return_df['Title'] = tit\n",
    "    return_df['Year'] = dat\n",
    "    return return_df\n",
    "\n",
    "# Set up the main route\n",
    "@app.route('/', methods=['GET', 'POST'])\n",
    "\n",
    "def main():\n",
    "    if flask.request.method == 'GET':\n",
    "        return(flask.render_template('index.html'))\n",
    "            \n",
    "    if flask.request.method == 'POST':\n",
    "        m_name = flask.request.form['movie_name']\n",
    "        m_name = m_name.title()\n",
    "#        check = difflib.get_close_matches(m_name,all_titles,cutout=0.50,n=1)\n",
    "        if m_name not in all_titles:\n",
    "            return(flask.render_template('negative.html',name=m_name))\n",
    "        else:\n",
    "            result_final = get_recommendations(m_name)\n",
    "            names = []\n",
    "            dates = []\n",
    "            for i in range(len(result_final)):\n",
    "                names.append(result_final.iloc[i][0])\n",
    "                dates.append(result_final.iloc[i][1])\n",
    "\n",
    "            return flask.render_template('positive.html',movie_names=names,movie_date=dates,search_name=m_name)\n",
    "\n",
    "if __name__ == '__main__':\n",
    "    app.run()"
   ]
  }
 ],
 "metadata": {
  "kernelspec": {
   "display_name": "Python 3",
   "language": "python",
   "name": "python3"
  },
  "language_info": {
   "codemirror_mode": {
    "name": "ipython",
    "version": 3
   },
   "file_extension": ".py",
   "mimetype": "text/x-python",
   "name": "python",
   "nbconvert_exporter": "python",
   "pygments_lexer": "ipython3",
   "version": "3.7.6"
  },
  "toc": {
   "base_numbering": 1,
   "nav_menu": {},
   "number_sections": true,
   "sideBar": true,
   "skip_h1_title": false,
   "title_cell": "Table of Contents",
   "title_sidebar": "Contents",
   "toc_cell": false,
   "toc_position": {
    "height": "calc(100% - 180px)",
    "left": "10px",
    "top": "150px",
    "width": "185.104px"
   },
   "toc_section_display": true,
   "toc_window_display": true
  }
 },
 "nbformat": 4,
 "nbformat_minor": 4
}
